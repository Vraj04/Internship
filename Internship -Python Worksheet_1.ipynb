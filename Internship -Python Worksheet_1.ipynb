{
 "cells": [
  {
   "cell_type": "markdown",
   "id": "a268823c",
   "metadata": {},
   "source": [
    "### Q11.Find a factorial of number"
   ]
  },
  {
   "cell_type": "code",
   "execution_count": 11,
   "id": "7f765b95",
   "metadata": {},
   "outputs": [
    {
     "name": "stdout",
     "output_type": "stream",
     "text": [
      "Enter your number: 6\n",
      "The factorial of 6 is 720\n"
     ]
    }
   ],
   "source": [
    "num=int(input('Enter your number: '))\n",
    "fact=1\n",
    "\n",
    "if num<0:\n",
    "    print('Oops, factorial of negative number does not exist')\n",
    "    \n",
    "elif num==0:\n",
    "    print('Factorial of  is 1')\n",
    "    \n",
    "else:\n",
    "    for i in range(1,num+1):\n",
    "            fact=fact*i\n",
    "print(f'The factorial of {num} is {fact}')"
   ]
  },
  {
   "cell_type": "raw",
   "id": "4b691e17",
   "metadata": {},
   "source": [
    "Factorial using Recursion"
   ]
  },
  {
   "cell_type": "code",
   "execution_count": 13,
   "id": "e257ed51",
   "metadata": {},
   "outputs": [
    {
     "name": "stdout",
     "output_type": "stream",
     "text": [
      "Enter your number: 6\n",
      "Factorial of 6 is 720\n"
     ]
    }
   ],
   "source": [
    "def fact(x):\n",
    "    if x==1:\n",
    "        return 1\n",
    "    else:\n",
    "        return (x*fact(x-1))\n",
    "\n",
    "num=int(input('Enter your number: '))\n",
    "result=fact(num)\n",
    "print(f'Factorial of {num} is {result}')"
   ]
  },
  {
   "cell_type": "code",
   "execution_count": null,
   "id": "f74b408e",
   "metadata": {},
   "outputs": [],
   "source": []
  },
  {
   "cell_type": "markdown",
   "id": "fff11b3e",
   "metadata": {},
   "source": [
    "### Q12.Whether Number is Prime or Composite"
   ]
  },
  {
   "cell_type": "code",
   "execution_count": 31,
   "id": "6107c6b0",
   "metadata": {},
   "outputs": [
    {
     "name": "stdout",
     "output_type": "stream",
     "text": [
      "Enter your number:2\n",
      "Prime Number\n"
     ]
    }
   ],
   "source": [
    "num=int(input('Enter your number:'))\n",
    "\n",
    "if num>1:\n",
    "    for i in range(2,num):        #range(2,num//2)\n",
    "        if num%i==0:\n",
    "            print('Not a Prime Number')\n",
    "            break\n",
    "    else:\n",
    "         print('Prime Number')\n"
   ]
  },
  {
   "cell_type": "code",
   "execution_count": 33,
   "id": "1aefa350",
   "metadata": {},
   "outputs": [
    {
     "name": "stdout",
     "output_type": "stream",
     "text": [
      "Total number of primes in given range: 168\n",
      "Time required: 0.005979061126708984\n"
     ]
    }
   ],
   "source": [
    "#Python program to find prime numbers in  given range\n",
    "\n",
    "import math\n",
    "import time\n",
    "def prime(z):\n",
    "    if z<=1:\n",
    "        return False\n",
    "    \n",
    "    div=math.floor(math.sqrt(z))                #we can reduce this time even further by skipping even numbers\n",
    "    for i in range (2,div+1):                   # for i in range(3,div+1,2)\n",
    "        if z%i==0:\n",
    "            return False\n",
    "    return True\n",
    "\n",
    "#Calc time to check count of prime numbers in given range\n",
    "t1=time.time()\n",
    "c=0\n",
    "for z in range(1,1000):\n",
    "    x=prime(z)\n",
    "    c+=x\n",
    "print('Total number of primes in given range:',c)\n",
    "    \n",
    "t0=time.time()\n",
    "print(\"Time required:\",t0-t1)"
   ]
  },
  {
   "cell_type": "code",
   "execution_count": null,
   "id": "9c065445",
   "metadata": {},
   "outputs": [],
   "source": []
  },
  {
   "cell_type": "markdown",
   "id": "5309c435",
   "metadata": {},
   "source": [
    "### Q13.String is Palindrome or Not"
   ]
  },
  {
   "cell_type": "code",
   "execution_count": 43,
   "id": "e1786891",
   "metadata": {},
   "outputs": [
    {
     "name": "stdout",
     "output_type": "stream",
     "text": [
      "Enter String:damad\n",
      "Palindrome\n"
     ]
    }
   ],
   "source": [
    "st=str(input('Enter String: '))\n",
    "\n",
    "if (st==st[::-1]):\n",
    "    print('Palindrome')\n",
    "else:\n",
    "    print('Not a Palindrome')"
   ]
  },
  {
   "cell_type": "code",
   "execution_count": 46,
   "id": "5db92300",
   "metadata": {},
   "outputs": [
    {
     "name": "stdout",
     "output_type": "stream",
     "text": [
      "Enter string: daad\n",
      "Palindrome\n"
     ]
    }
   ],
   "source": [
    "x=str(input('Enter string: '))\n",
    "rev=reversed(x)\n",
    "\n",
    "if list(rev)==list(x):\n",
    "    print('Palindrome')\n",
    "else:\n",
    "    print('Not a palindrome')"
   ]
  },
  {
   "cell_type": "code",
   "execution_count": null,
   "id": "b5407570",
   "metadata": {},
   "outputs": [],
   "source": []
  },
  {
   "cell_type": "markdown",
   "id": "fe8e2480",
   "metadata": {},
   "source": [
    "### Q14.Find 3rd side of right angled triangle"
   ]
  },
  {
   "cell_type": "code",
   "execution_count": 47,
   "id": "9e8d7f79",
   "metadata": {},
   "outputs": [
    {
     "name": "stdout",
     "output_type": "stream",
     "text": [
      "Enter side a: 3\n",
      "Enter side b: 4\n",
      "Third side of right-angled triangle:  5.0\n"
     ]
    }
   ],
   "source": [
    "import math\n",
    "a=float(input('Enter side a: '))\n",
    "b=float(input('Enter side b: '))\n",
    "c=math.sqrt((a**2)+(b**2))\n",
    "print('Third side of right-angled triangle: ',c)"
   ]
  },
  {
   "cell_type": "code",
   "execution_count": null,
   "id": "0af1b296",
   "metadata": {},
   "outputs": [],
   "source": []
  },
  {
   "cell_type": "markdown",
   "id": "cb5d9c11",
   "metadata": {},
   "source": [
    "### Q15.Check the frequency of each character in string"
   ]
  },
  {
   "cell_type": "code",
   "execution_count": 49,
   "id": "27fb53d7",
   "metadata": {},
   "outputs": [
    {
     "name": "stdout",
     "output_type": "stream",
     "text": [
      "Enter string: HELLO WORLD\n",
      "{'H': 1, 'E': 1, 'L': 3, 'O': 2, ' ': 1, 'W': 1, 'R': 1, 'D': 1}\n"
     ]
    }
   ],
   "source": [
    "my_str=str(input('Enter string: '))\n",
    "my_dict=dict()\n",
    "for x in my_str:\n",
    "    if x in my_dict:\n",
    "        my_dict[x]=my_dict[x]+1\n",
    "    else:\n",
    "        my_dict[x]=1\n",
    "        \n",
    "print(my_dict)"
   ]
  },
  {
   "cell_type": "code",
   "execution_count": 50,
   "id": "33fa9a6f",
   "metadata": {},
   "outputs": [
    {
     "name": "stdout",
     "output_type": "stream",
     "text": [
      "Enter string: RSVP\n",
      "{'R': 1, 'S': 1, 'V': 1, 'P': 1}\n"
     ]
    }
   ],
   "source": [
    "my_str=str(input('Enter string: '))\n",
    "my_dict=dict()\n",
    "for x in my_str:\n",
    "    my_dict[x]=my_dict.get(x,0)+1\n",
    "print(my_dict)"
   ]
  }
 ],
 "metadata": {
  "kernelspec": {
   "display_name": "Python 3",
   "language": "python",
   "name": "python3"
  },
  "language_info": {
   "codemirror_mode": {
    "name": "ipython",
    "version": 3
   },
   "file_extension": ".py",
   "mimetype": "text/x-python",
   "name": "python",
   "nbconvert_exporter": "python",
   "pygments_lexer": "ipython3",
   "version": "3.8.8"
  }
 },
 "nbformat": 4,
 "nbformat_minor": 5
}
