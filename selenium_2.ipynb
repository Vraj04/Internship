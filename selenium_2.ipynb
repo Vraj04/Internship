{
 "cells": [
  {
   "cell_type": "code",
   "execution_count": 1,
   "id": "7cb4ad98",
   "metadata": {},
   "outputs": [],
   "source": [
    "from selenium import webdriver\n",
    "import time\n",
    "from selenium.webdriver.support.select import Select\n",
    "\n",
    "import warnings\n",
    "warnings.filterwarnings('ignore')"
   ]
  },
  {
   "cell_type": "markdown",
   "id": "e073e0a0",
   "metadata": {},
   "source": [
    "# Q1: Scrap first 10 Data's from naukri.com"
   ]
  },
  {
   "cell_type": "code",
   "execution_count": 2,
   "id": "53d4577c",
   "metadata": {},
   "outputs": [],
   "source": [
    "driver = webdriver.Chrome(r'C:\\Users\\Nitin Patel\\chromedriver_win32/chromedriver')\n",
    "driver.get('https://www.naukri.com/')\n",
    "driver.maximize_window()\n",
    "time.sleep(5)\n",
    "\n",
    "try:\n",
    "    close_suggest = driver.find_element_by_xpath('/html/body/div/div[2]/div[4]/div/div[2]/div[2]/div[1]/div/div[1]/div').click()\n",
    "except:\n",
    "    pass\n",
    "\n",
    "job_title = driver.find_element_by_xpath('/html/body/div/div[2]/div[3]/div/div/div[1]/div/div/div/input')\n",
    "job_title.send_keys('Data Analyst')\n",
    "time.sleep(3)\n",
    "\n",
    "locn = driver.find_element_by_xpath('/html/body/div/div[2]/div[3]/div/div/div[3]/div/div/div/input')\n",
    "locn.send_keys('Bangalore')\n",
    "time.sleep(3)\n",
    "\n",
    "close_chat = driver.find_element_by_xpath('//*[@id=\"root\"]/div[2]/div[4]/div/div[2]/div[2]/div[1]/div[1]/div/i[2]')\n",
    "close_chat.click()\n",
    "time.sleep(3)\n",
    "\n",
    "search = driver.find_element_by_xpath('//*[@id=\"root\"]/div[2]/div[3]/div/div/div[6]')\n",
    "search.click()"
   ]
  },
  {
   "cell_type": "code",
   "execution_count": 3,
   "id": "c3ae95b4",
   "metadata": {},
   "outputs": [
    {
     "data": {
      "text/plain": [
       "['Data Coordinator | Data Analyst | MS Excel | Typing | Bangalore',\n",
       " 'software developer & Testing / Business Analyst/Data Analyst/Python.',\n",
       " 'Staff Business Data Analyst - FDP',\n",
       " 'Data Analyst - IIM/ISB/MDI/FMS/SP Jain',\n",
       " 'Senior Data Analyst',\n",
       " 'Senior Data Analyst',\n",
       " 'Senior Data Analyst',\n",
       " 'Hiring For Data Analyst!!!',\n",
       " 'Data Analyst',\n",
       " 'Looking For Data Analyst']"
      ]
     },
     "execution_count": 3,
     "metadata": {},
     "output_type": "execute_result"
    }
   ],
   "source": [
    "job_title = []\n",
    "\n",
    "title = driver.find_elements_by_xpath('//div[@class=\"info fleft\"]/a')\n",
    "for i in title:\n",
    "    job_title.append(i.text)\n",
    "    \n",
    "job_title[0:10]"
   ]
  },
  {
   "cell_type": "code",
   "execution_count": 4,
   "id": "c1bbb1bc",
   "metadata": {},
   "outputs": [
    {
     "data": {
      "text/plain": [
       "['Inspiration Manpower Consultancy Pvt. Ltd.',\n",
       " 'SECRET TECHNOLOGIES INDIA VMS GROUP',\n",
       " 'Intuit Inc.',\n",
       " 'K12 Techno Services Pvt Ltd',\n",
       " 'Capco',\n",
       " 'Mobile Premier League',\n",
       " 'Flipkart',\n",
       " 'Ignitho',\n",
       " 'SunEdison',\n",
       " 'Trellance']"
      ]
     },
     "execution_count": 4,
     "metadata": {},
     "output_type": "execute_result"
    }
   ],
   "source": [
    "company = []\n",
    "name = driver.find_elements_by_xpath(\"//a[@class='subTitle ellipsis fleft']\")\n",
    "for i in name:\n",
    "    company.append(i.text)\n",
    "company[0:10]"
   ]
  },
  {
   "cell_type": "code",
   "execution_count": 5,
   "id": "8f6f9852",
   "metadata": {},
   "outputs": [
    {
     "data": {
      "text/plain": [
       "['0-4 Yrs',\n",
       " '5-7 Yrs',\n",
       " '4-9 Yrs',\n",
       " '4-8 Yrs',\n",
       " '3-6 Yrs',\n",
       " '3-6 Yrs',\n",
       " '3-8 Yrs',\n",
       " '2-7 Yrs',\n",
       " '0-2 Yrs',\n",
       " '1-6 Yrs']"
      ]
     },
     "execution_count": 5,
     "metadata": {},
     "output_type": "execute_result"
    }
   ],
   "source": [
    "experience_req = []\n",
    "experience = driver.find_elements_by_xpath('//li[@class=\"fleft grey-text br2 placeHolderLi experience\"]/span')\n",
    "for i in experience:\n",
    "    experience_req.append(i.text)\n",
    "    \n",
    "experience_req[0:10]"
   ]
  },
  {
   "cell_type": "code",
   "execution_count": 6,
   "id": "6307e96f",
   "metadata": {},
   "outputs": [
    {
     "data": {
      "text/plain": [
       "['Bangalore/Bengaluru(Sadashiva Nagar)',\n",
       " 'Pune, Bangalore/Bengaluru(Shivaji Nagar), Mumbai (All Areas)\\n(WFH during Covid)',\n",
       " 'Bangalore/Bengaluru',\n",
       " 'Bangalore/Bengaluru',\n",
       " 'Bangalore/Bengaluru',\n",
       " 'Bangalore/Bengaluru',\n",
       " 'Bangalore/Bengaluru',\n",
       " 'Chennai, Bangalore/Bengaluru\\n(WFH during Covid)',\n",
       " 'Bangalore/Bengaluru, Mumbai (All Areas)',\n",
       " 'Ahmedabad, Bangalore/Bengaluru']"
      ]
     },
     "execution_count": 6,
     "metadata": {},
     "output_type": "execute_result"
    }
   ],
   "source": [
    "job_location = []\n",
    "location = driver.find_elements_by_xpath('//li[@class=\"fleft grey-text br2 placeHolderLi location\"]')\n",
    "for i in location:\n",
    "    job_location.append(i.text)\n",
    "job_location[0:10]"
   ]
  },
  {
   "cell_type": "code",
   "execution_count": 7,
   "id": "f9d37115",
   "metadata": {},
   "outputs": [
    {
     "data": {
      "text/html": [
       "<div>\n",
       "<style scoped>\n",
       "    .dataframe tbody tr th:only-of-type {\n",
       "        vertical-align: middle;\n",
       "    }\n",
       "\n",
       "    .dataframe tbody tr th {\n",
       "        vertical-align: top;\n",
       "    }\n",
       "\n",
       "    .dataframe thead th {\n",
       "        text-align: right;\n",
       "    }\n",
       "</style>\n",
       "<table border=\"1\" class=\"dataframe\">\n",
       "  <thead>\n",
       "    <tr style=\"text-align: right;\">\n",
       "      <th></th>\n",
       "      <th>Job_Title</th>\n",
       "      <th>Company</th>\n",
       "      <th>Experince</th>\n",
       "      <th>Location</th>\n",
       "    </tr>\n",
       "  </thead>\n",
       "  <tbody>\n",
       "    <tr>\n",
       "      <th>0</th>\n",
       "      <td>Data Coordinator | Data Analyst | MS Excel | T...</td>\n",
       "      <td>Inspiration Manpower Consultancy Pvt. Ltd.</td>\n",
       "      <td>0-4 Yrs</td>\n",
       "      <td>Bangalore/Bengaluru(Sadashiva Nagar)</td>\n",
       "    </tr>\n",
       "    <tr>\n",
       "      <th>1</th>\n",
       "      <td>software developer &amp; Testing / Business Analys...</td>\n",
       "      <td>SECRET TECHNOLOGIES INDIA VMS GROUP</td>\n",
       "      <td>5-7 Yrs</td>\n",
       "      <td>Pune, Bangalore/Bengaluru(Shivaji Nagar), Mumb...</td>\n",
       "    </tr>\n",
       "    <tr>\n",
       "      <th>2</th>\n",
       "      <td>Staff Business Data Analyst - FDP</td>\n",
       "      <td>Intuit Inc.</td>\n",
       "      <td>4-9 Yrs</td>\n",
       "      <td>Bangalore/Bengaluru</td>\n",
       "    </tr>\n",
       "    <tr>\n",
       "      <th>3</th>\n",
       "      <td>Data Analyst - IIM/ISB/MDI/FMS/SP Jain</td>\n",
       "      <td>K12 Techno Services Pvt Ltd</td>\n",
       "      <td>4-8 Yrs</td>\n",
       "      <td>Bangalore/Bengaluru</td>\n",
       "    </tr>\n",
       "    <tr>\n",
       "      <th>4</th>\n",
       "      <td>Senior Data Analyst</td>\n",
       "      <td>Capco</td>\n",
       "      <td>3-6 Yrs</td>\n",
       "      <td>Bangalore/Bengaluru</td>\n",
       "    </tr>\n",
       "    <tr>\n",
       "      <th>5</th>\n",
       "      <td>Senior Data Analyst</td>\n",
       "      <td>Mobile Premier League</td>\n",
       "      <td>3-6 Yrs</td>\n",
       "      <td>Bangalore/Bengaluru</td>\n",
       "    </tr>\n",
       "    <tr>\n",
       "      <th>6</th>\n",
       "      <td>Senior Data Analyst</td>\n",
       "      <td>Flipkart</td>\n",
       "      <td>3-8 Yrs</td>\n",
       "      <td>Bangalore/Bengaluru</td>\n",
       "    </tr>\n",
       "    <tr>\n",
       "      <th>7</th>\n",
       "      <td>Hiring For Data Analyst!!!</td>\n",
       "      <td>Ignitho</td>\n",
       "      <td>2-7 Yrs</td>\n",
       "      <td>Chennai, Bangalore/Bengaluru\\n(WFH during Covid)</td>\n",
       "    </tr>\n",
       "    <tr>\n",
       "      <th>8</th>\n",
       "      <td>Data Analyst</td>\n",
       "      <td>SunEdison</td>\n",
       "      <td>0-2 Yrs</td>\n",
       "      <td>Bangalore/Bengaluru, Mumbai (All Areas)</td>\n",
       "    </tr>\n",
       "    <tr>\n",
       "      <th>9</th>\n",
       "      <td>Looking For Data Analyst</td>\n",
       "      <td>Trellance</td>\n",
       "      <td>1-6 Yrs</td>\n",
       "      <td>Ahmedabad, Bangalore/Bengaluru</td>\n",
       "    </tr>\n",
       "  </tbody>\n",
       "</table>\n",
       "</div>"
      ],
      "text/plain": [
       "                                           Job_Title  \\\n",
       "0  Data Coordinator | Data Analyst | MS Excel | T...   \n",
       "1  software developer & Testing / Business Analys...   \n",
       "2                  Staff Business Data Analyst - FDP   \n",
       "3             Data Analyst - IIM/ISB/MDI/FMS/SP Jain   \n",
       "4                                Senior Data Analyst   \n",
       "5                                Senior Data Analyst   \n",
       "6                                Senior Data Analyst   \n",
       "7                         Hiring For Data Analyst!!!   \n",
       "8                                       Data Analyst   \n",
       "9                           Looking For Data Analyst   \n",
       "\n",
       "                                      Company Experince  \\\n",
       "0  Inspiration Manpower Consultancy Pvt. Ltd.   0-4 Yrs   \n",
       "1         SECRET TECHNOLOGIES INDIA VMS GROUP   5-7 Yrs   \n",
       "2                                 Intuit Inc.   4-9 Yrs   \n",
       "3                 K12 Techno Services Pvt Ltd   4-8 Yrs   \n",
       "4                                       Capco   3-6 Yrs   \n",
       "5                       Mobile Premier League   3-6 Yrs   \n",
       "6                                    Flipkart   3-8 Yrs   \n",
       "7                                     Ignitho   2-7 Yrs   \n",
       "8                                   SunEdison   0-2 Yrs   \n",
       "9                                   Trellance   1-6 Yrs   \n",
       "\n",
       "                                            Location  \n",
       "0               Bangalore/Bengaluru(Sadashiva Nagar)  \n",
       "1  Pune, Bangalore/Bengaluru(Shivaji Nagar), Mumb...  \n",
       "2                                Bangalore/Bengaluru  \n",
       "3                                Bangalore/Bengaluru  \n",
       "4                                Bangalore/Bengaluru  \n",
       "5                                Bangalore/Bengaluru  \n",
       "6                                Bangalore/Bengaluru  \n",
       "7   Chennai, Bangalore/Bengaluru\\n(WFH during Covid)  \n",
       "8            Bangalore/Bengaluru, Mumbai (All Areas)  \n",
       "9                     Ahmedabad, Bangalore/Bengaluru  "
      ]
     },
     "execution_count": 7,
     "metadata": {},
     "output_type": "execute_result"
    }
   ],
   "source": [
    "import pandas as pd\n",
    "Data_Analyst = pd.DataFrame({'Job_Title': job_title[0:10],\n",
    "                             'Company':company[0:10],\n",
    "                             'Experince':experience_req[0:10],\n",
    "                            'Location':job_location[0:10]})\n",
    "Data_Analyst \n",
    "#or\n",
    "#Data_Analyst.head(10)"
   ]
  },
  {
   "cell_type": "code",
   "execution_count": null,
   "id": "80d1e6c1",
   "metadata": {},
   "outputs": [],
   "source": []
  },
  {
   "cell_type": "markdown",
   "id": "91b76745",
   "metadata": {},
   "source": [
    "## Different approach having the same tag"
   ]
  },
  {
   "cell_type": "code",
   "execution_count": 8,
   "id": "36796993",
   "metadata": {},
   "outputs": [
    {
     "data": {
      "text/plain": [
       "[<selenium.webdriver.remote.webelement.WebElement (session=\"bca2da0d53f24932435150164c428e5d\", element=\"65476c9c-0ae9-423b-b09c-2c550904327c\")>,\n",
       " <selenium.webdriver.remote.webelement.WebElement (session=\"bca2da0d53f24932435150164c428e5d\", element=\"916ac2b8-155b-4672-9d1f-aaee4c7e8556\")>,\n",
       " <selenium.webdriver.remote.webelement.WebElement (session=\"bca2da0d53f24932435150164c428e5d\", element=\"eb216315-9a38-46e4-bc38-dfe5e2621065\")>,\n",
       " <selenium.webdriver.remote.webelement.WebElement (session=\"bca2da0d53f24932435150164c428e5d\", element=\"b212aa10-b3d7-42b6-a370-4199cea0ab7c\")>,\n",
       " <selenium.webdriver.remote.webelement.WebElement (session=\"bca2da0d53f24932435150164c428e5d\", element=\"08192d59-f05c-4735-9bd7-2914bfc77c7f\")>,\n",
       " <selenium.webdriver.remote.webelement.WebElement (session=\"bca2da0d53f24932435150164c428e5d\", element=\"85dd2da7-3547-41a8-81fc-104305346cb2\")>,\n",
       " <selenium.webdriver.remote.webelement.WebElement (session=\"bca2da0d53f24932435150164c428e5d\", element=\"f29a1ddd-d4d1-4a2e-a70b-b5d7c0dd61d9\")>,\n",
       " <selenium.webdriver.remote.webelement.WebElement (session=\"bca2da0d53f24932435150164c428e5d\", element=\"28c8a952-0a96-480c-8e9c-fa9fbaca9c96\")>,\n",
       " <selenium.webdriver.remote.webelement.WebElement (session=\"bca2da0d53f24932435150164c428e5d\", element=\"74c8e176-c562-4186-af30-65778febc155\")>,\n",
       " <selenium.webdriver.remote.webelement.WebElement (session=\"bca2da0d53f24932435150164c428e5d\", element=\"3b4bfeb6-98a4-4569-b959-53d19b0ac588\")>,\n",
       " <selenium.webdriver.remote.webelement.WebElement (session=\"bca2da0d53f24932435150164c428e5d\", element=\"96c8235e-ea3d-435b-8d43-4328f5af4cca\")>,\n",
       " <selenium.webdriver.remote.webelement.WebElement (session=\"bca2da0d53f24932435150164c428e5d\", element=\"540ac418-95c1-4df1-ac76-e01c9b27f6ed\")>,\n",
       " <selenium.webdriver.remote.webelement.WebElement (session=\"bca2da0d53f24932435150164c428e5d\", element=\"65fec17c-d55f-4565-947a-90bc4d280106\")>,\n",
       " <selenium.webdriver.remote.webelement.WebElement (session=\"bca2da0d53f24932435150164c428e5d\", element=\"905ccea8-aa4d-4912-af6a-69ff44c28580\")>,\n",
       " <selenium.webdriver.remote.webelement.WebElement (session=\"bca2da0d53f24932435150164c428e5d\", element=\"5f7eff3b-ccda-4ba7-8491-2e0f730e60e6\")>,\n",
       " <selenium.webdriver.remote.webelement.WebElement (session=\"bca2da0d53f24932435150164c428e5d\", element=\"15a06933-dc27-4ebb-933f-557362c29edb\")>,\n",
       " <selenium.webdriver.remote.webelement.WebElement (session=\"bca2da0d53f24932435150164c428e5d\", element=\"a88666e6-35d4-407d-a396-7a7a7addd4a1\")>,\n",
       " <selenium.webdriver.remote.webelement.WebElement (session=\"bca2da0d53f24932435150164c428e5d\", element=\"5dbab9e4-a906-4af0-b6ec-d34e1bb78b27\")>,\n",
       " <selenium.webdriver.remote.webelement.WebElement (session=\"bca2da0d53f24932435150164c428e5d\", element=\"448cbee7-6d89-4499-98ff-895f0b1c861e\")>,\n",
       " <selenium.webdriver.remote.webelement.WebElement (session=\"bca2da0d53f24932435150164c428e5d\", element=\"1afeb1c6-8fc5-4a8e-9e9d-9699315172ac\")>]"
      ]
     },
     "execution_count": 8,
     "metadata": {},
     "output_type": "execute_result"
    }
   ],
   "source": [
    "loc1 = driver.find_elements_by_xpath('//ul[@class=\"mt-7\"]')\n",
    "loc1"
   ]
  },
  {
   "cell_type": "code",
   "execution_count": 9,
   "id": "9f03311b",
   "metadata": {},
   "outputs": [
    {
     "name": "stdout",
     "output_type": "stream",
     "text": [
      "Experience: 15 March - 21 March\n",
      "Salary: 1,00,000 - 2,50,000 PA.\n",
      "Location: Bangalore/Bengaluru(Sadashiva Nagar)\n"
     ]
    }
   ],
   "source": [
    "tloc = loc1[0]\n",
    "print('Experience:',tloc.find_elements_by_tag_name('li')[-3].text)\n",
    "print('Salary:',tloc.find_elements_by_tag_name('li')[-2].text)\n",
    "print('Location:',tloc.find_elements_by_tag_name('li')[-1].text)"
   ]
  },
  {
   "cell_type": "code",
   "execution_count": 10,
   "id": "1d664580",
   "metadata": {},
   "outputs": [
    {
     "data": {
      "text/plain": [
       "['Bangalore/Bengaluru(Sadashiva Nagar)',\n",
       " 'Pune, Bangalore/Bengaluru(Shivaji Nagar), Mumbai (All Areas)\\n(WFH during Covid)',\n",
       " 'Bangalore/Bengaluru',\n",
       " 'Bangalore/Bengaluru',\n",
       " 'Bangalore/Bengaluru',\n",
       " 'Bangalore/Bengaluru',\n",
       " 'Bangalore/Bengaluru',\n",
       " 'Chennai, Bangalore/Bengaluru\\n(WFH during Covid)',\n",
       " 'Bangalore/Bengaluru, Mumbai (All Areas)',\n",
       " 'Ahmedabad, Bangalore/Bengaluru',\n",
       " 'Bangalore/Bengaluru',\n",
       " 'Bangalore/Bengaluru(Residency Road)\\n(WFH during Covid)',\n",
       " 'Bangalore/Bengaluru',\n",
       " 'Bangalore/Bengaluru',\n",
       " 'Bangalore/Bengaluru',\n",
       " 'Bangalore/Bengaluru(Hebbal Kempapura)\\n(WFH during Covid)',\n",
       " 'Hyderabad/Secunderabad, Bangalore/Bengaluru',\n",
       " 'Bangalore/Bengaluru',\n",
       " 'Bangalore/Bengaluru',\n",
       " 'Bangalore/Bengaluru']"
      ]
     },
     "execution_count": 10,
     "metadata": {},
     "output_type": "execute_result"
    }
   ],
   "source": [
    "exper =[]\n",
    "Salary =[]\n",
    "locate = []\n",
    "for i in range(len(loc1)):\n",
    "    tloc = loc1[i]\n",
    "    exper.append(tloc.find_elements_by_tag_name('li')[-3].text)\n",
    "    Salary.append(tloc.find_elements_by_tag_name('li')[-2].text)\n",
    "    locate.append(tloc.find_elements_by_tag_name('li')[-1].text)\n",
    "    \n",
    "exper\n",
    "Salary\n",
    "locate"
   ]
  },
  {
   "cell_type": "code",
   "execution_count": null,
   "id": "9e49fbe2",
   "metadata": {},
   "outputs": [],
   "source": []
  },
  {
   "cell_type": "markdown",
   "id": "32f6330b",
   "metadata": {},
   "source": [
    "# Q2. Scrap first 10 Data from naukri.com"
   ]
  },
  {
   "cell_type": "code",
   "execution_count": 11,
   "id": "55db2eb2",
   "metadata": {},
   "outputs": [],
   "source": [
    "driver = webdriver.Chrome(r'C:\\Users\\Nitin Patel\\chromedriver_win32/chromedriver')\n",
    "driver.get('https://www.naukri.com/')\n",
    "time.sleep(3)\n",
    "driver.maximize_window()\n",
    "time.sleep(5)\n",
    "\n",
    "#Entering field of job-title\n",
    "job_title = driver.find_element_by_xpath('/html/body/div/div[2]/div[3]/div/div/div[1]/div/div/div/input')\n",
    "job_title.send_keys('Data Scientist')\n",
    "time.sleep(3)\n",
    "\n",
    "#closing suggestion for job-search box\n",
    "try:\n",
    "    close_suggest = driver.find_element_by_xpath('/html/body/div/div[2]/div[4]/div/div[2]/div[2]/div[1]/div/div[1]/div').click()\n",
    "except:\n",
    "    pass\n",
    "time.sleep(4)\n",
    "\n",
    "#Entering Location\n",
    "locn = driver.find_element_by_xpath('/html/body/div/div[2]/div[3]/div/div/div[3]/div/div/div/input')\n",
    "locn.send_keys('Bangalore')\n",
    "time.sleep(3)\n",
    "\n",
    "#closing chatbot pop-up\n",
    "try:\n",
    "    close_chat = driver.find_element_by_xpath('//*[@id=\"root\"]/div[2]/div[4]/div/div[2]/div[2]/div[1]/div[1]/div/i[2]')\n",
    "    close_chat.click()\n",
    "except:\n",
    "    pass\n",
    "time.sleep(3)\n",
    "\n",
    "#Clicking search button\n",
    "search = driver.find_element_by_xpath('//*[@id=\"root\"]/div[2]/div[3]/div/div/div[6]')\n",
    "search.click()"
   ]
  },
  {
   "cell_type": "code",
   "execution_count": 21,
   "id": "5b37c3f9",
   "metadata": {},
   "outputs": [
    {
     "data": {
      "text/plain": [
       "['Data Scientist',\n",
       " 'Data Scientist',\n",
       " 'Senior/ Lead Data Scientist',\n",
       " 'Data Scientist / Analyst',\n",
       " 'Forecasting Analyst/ Data Scientist (US Client)',\n",
       " 'Excellent Opportunity For Freshers For AI/ML, Data Scientist, BI, QA',\n",
       " 'Junior Data Scientist',\n",
       " 'Data Scientist',\n",
       " 'Data Scientist',\n",
       " 'Data Scientist',\n",
       " 'Data Scientist',\n",
       " 'Senior Data Scientist',\n",
       " 'Senior Data Scientist',\n",
       " 'Senior Data Scientist',\n",
       " 'Sr. Data Scientist, Digital Services Analytics',\n",
       " 'HCL Tech Opening - Senior Data Scientist',\n",
       " 'Cognitive/AI Senior Data Scientist',\n",
       " 'Sr. Product Data Scientist',\n",
       " 'Data Scientist II- Merchandise & Discovery',\n",
       " 'Virtusa Hiring DATA Scientist- PAN India']"
      ]
     },
     "execution_count": 21,
     "metadata": {},
     "output_type": "execute_result"
    }
   ],
   "source": [
    "job_title = []\n",
    "title = driver.find_elements_by_xpath('//a[@class=\"title fw500 ellipsis\"]')\n",
    "for i in title:\n",
    "    job_title.append(i.text)\n",
    "job_title"
   ]
  },
  {
   "cell_type": "code",
   "execution_count": 23,
   "id": "0eaeba49",
   "metadata": {},
   "outputs": [
    {
     "data": {
      "text/plain": [
       "['HDFC Bank',\n",
       " 'Shell',\n",
       " 'AmoliTalents',\n",
       " 'open data fabric',\n",
       " 'Concentrix',\n",
       " 'NTT Data',\n",
       " 'Titan',\n",
       " 'Amazon',\n",
       " 'Hewlett-Packard (HP)',\n",
       " 'Shell',\n",
       " 'Master Mind Consultancy',\n",
       " 'newscorp',\n",
       " 'Walmart',\n",
       " 'Precisely',\n",
       " 'Dell',\n",
       " 'HCL',\n",
       " 'IBM',\n",
       " 'Uber',\n",
       " 'Swiggy',\n",
       " 'Virtusa']"
      ]
     },
     "execution_count": 23,
     "metadata": {},
     "output_type": "execute_result"
    }
   ],
   "source": [
    "company_name = []\n",
    "name = driver.find_elements_by_xpath('//a[@class=\"subTitle ellipsis fleft\"]')\n",
    "\n",
    "for i in name:\n",
    "    company_name.append(i.text)\n",
    "company_name"
   ]
  },
  {
   "cell_type": "code",
   "execution_count": 26,
   "id": "3419a691",
   "metadata": {},
   "outputs": [
    {
     "data": {
      "text/plain": [
       "['14,00,000 - 24,00,000 PA.',\n",
       " 'Not disclosed',\n",
       " 'Not disclosed',\n",
       " 'Not disclosed',\n",
       " 'Not disclosed',\n",
       " '3,50,000 - 5,00,000 PA.',\n",
       " 'Not disclosed',\n",
       " 'Not disclosed',\n",
       " 'Not disclosed',\n",
       " 'Not disclosed',\n",
       " 'Not disclosed',\n",
       " 'Not disclosed',\n",
       " 'Not disclosed',\n",
       " 'Not disclosed',\n",
       " 'Not disclosed',\n",
       " 'Not disclosed',\n",
       " 'Not disclosed',\n",
       " 'Not disclosed',\n",
       " 'Not disclosed',\n",
       " '13,00,000 - 23,00,000 PA.']"
      ]
     },
     "execution_count": 26,
     "metadata": {},
     "output_type": "execute_result"
    }
   ],
   "source": [
    "salary = []\n",
    "wage = driver.find_elements_by_xpath('//li[@class=\"fleft grey-text br2 placeHolderLi salary\"]')\n",
    "\n",
    "for i in wage:\n",
    "    salary.append(i.text)\n",
    "    \n",
    "salary"
   ]
  },
  {
   "cell_type": "code",
   "execution_count": 28,
   "id": "7b02c309",
   "metadata": {},
   "outputs": [
    {
     "data": {
      "text/plain": [
       "['Pune, Gurgaon/Gurugram, Chennai, Bangalore/Bengaluru, Delhi / NCR, Mumbai (All Areas)',\n",
       " 'Bangalore/Bengaluru',\n",
       " 'Bangalore/Bengaluru',\n",
       " 'Bangalore/Bengaluru',\n",
       " 'Gurgaon/Gurugram, Bangalore/Bengaluru\\n(WFH during Covid)',\n",
       " 'Noida, Kolkata, Hyderabad/Secunderabad, Pune, Chennai, Bangalore/Bengaluru, Delhi / NCR, Mumbai (All Areas)\\n(WFH during Covid)',\n",
       " 'Bangalore/Bengaluru',\n",
       " 'Hyderabad/Secunderabad, Pune, Bangalore/Bengaluru',\n",
       " 'Bangalore/Bengaluru',\n",
       " 'Bangalore/Bengaluru',\n",
       " 'Mumbai, Bangalore/Bengaluru',\n",
       " 'Bangalore/Bengaluru',\n",
       " 'Bangalore/Bengaluru',\n",
       " 'Noida, Pune, Bangalore/Bengaluru',\n",
       " 'Bangalore/Bengaluru',\n",
       " 'Noida, Kolkata, Hyderabad/Secunderabad, Pune, Chennai, Bangalore/Bengaluru',\n",
       " 'Bangalore/Bengaluru',\n",
       " 'Bangalore/Bengaluru',\n",
       " 'Bangalore/Bengaluru',\n",
       " 'Hyderabad/Secunderabad, Pune, Gurgaon/Gurugram, Chennai, Bangalore/Bengaluru, Mumbai (All Areas)\\n(WFH during Covid)']"
      ]
     },
     "execution_count": 28,
     "metadata": {},
     "output_type": "execute_result"
    }
   ],
   "source": [
    "location = []\n",
    "where = driver.find_elements_by_xpath('//li[@class=\"fleft grey-text br2 placeHolderLi location\"]')\n",
    "\n",
    "for i in where:\n",
    "    location.append(i.text)\n",
    "location"
   ]
  },
  {
   "cell_type": "code",
   "execution_count": 29,
   "id": "efa9076b",
   "metadata": {},
   "outputs": [
    {
     "data": {
      "text/html": [
       "<div>\n",
       "<style scoped>\n",
       "    .dataframe tbody tr th:only-of-type {\n",
       "        vertical-align: middle;\n",
       "    }\n",
       "\n",
       "    .dataframe tbody tr th {\n",
       "        vertical-align: top;\n",
       "    }\n",
       "\n",
       "    .dataframe thead th {\n",
       "        text-align: right;\n",
       "    }\n",
       "</style>\n",
       "<table border=\"1\" class=\"dataframe\">\n",
       "  <thead>\n",
       "    <tr style=\"text-align: right;\">\n",
       "      <th></th>\n",
       "      <th>Job_Title</th>\n",
       "      <th>Company</th>\n",
       "      <th>Salary</th>\n",
       "      <th>Location</th>\n",
       "    </tr>\n",
       "  </thead>\n",
       "  <tbody>\n",
       "    <tr>\n",
       "      <th>0</th>\n",
       "      <td>Data Scientist</td>\n",
       "      <td>HDFC Bank</td>\n",
       "      <td>14,00,000 - 24,00,000 PA.</td>\n",
       "      <td>Pune, Gurgaon/Gurugram, Chennai, Bangalore/Ben...</td>\n",
       "    </tr>\n",
       "    <tr>\n",
       "      <th>1</th>\n",
       "      <td>Data Scientist</td>\n",
       "      <td>Shell</td>\n",
       "      <td>Not disclosed</td>\n",
       "      <td>Bangalore/Bengaluru</td>\n",
       "    </tr>\n",
       "    <tr>\n",
       "      <th>2</th>\n",
       "      <td>Senior/ Lead Data Scientist</td>\n",
       "      <td>AmoliTalents</td>\n",
       "      <td>Not disclosed</td>\n",
       "      <td>Bangalore/Bengaluru</td>\n",
       "    </tr>\n",
       "    <tr>\n",
       "      <th>3</th>\n",
       "      <td>Data Scientist / Analyst</td>\n",
       "      <td>open data fabric</td>\n",
       "      <td>Not disclosed</td>\n",
       "      <td>Bangalore/Bengaluru</td>\n",
       "    </tr>\n",
       "    <tr>\n",
       "      <th>4</th>\n",
       "      <td>Forecasting Analyst/ Data Scientist (US Client)</td>\n",
       "      <td>Concentrix</td>\n",
       "      <td>Not disclosed</td>\n",
       "      <td>Gurgaon/Gurugram, Bangalore/Bengaluru\\n(WFH du...</td>\n",
       "    </tr>\n",
       "    <tr>\n",
       "      <th>5</th>\n",
       "      <td>Excellent Opportunity For Freshers For AI/ML, ...</td>\n",
       "      <td>NTT Data</td>\n",
       "      <td>3,50,000 - 5,00,000 PA.</td>\n",
       "      <td>Noida, Kolkata, Hyderabad/Secunderabad, Pune, ...</td>\n",
       "    </tr>\n",
       "    <tr>\n",
       "      <th>6</th>\n",
       "      <td>Junior Data Scientist</td>\n",
       "      <td>Titan</td>\n",
       "      <td>Not disclosed</td>\n",
       "      <td>Bangalore/Bengaluru</td>\n",
       "    </tr>\n",
       "    <tr>\n",
       "      <th>7</th>\n",
       "      <td>Data Scientist</td>\n",
       "      <td>Amazon</td>\n",
       "      <td>Not disclosed</td>\n",
       "      <td>Hyderabad/Secunderabad, Pune, Bangalore/Bengaluru</td>\n",
       "    </tr>\n",
       "    <tr>\n",
       "      <th>8</th>\n",
       "      <td>Data Scientist</td>\n",
       "      <td>Hewlett-Packard (HP)</td>\n",
       "      <td>Not disclosed</td>\n",
       "      <td>Bangalore/Bengaluru</td>\n",
       "    </tr>\n",
       "    <tr>\n",
       "      <th>9</th>\n",
       "      <td>Data Scientist</td>\n",
       "      <td>Shell</td>\n",
       "      <td>Not disclosed</td>\n",
       "      <td>Bangalore/Bengaluru</td>\n",
       "    </tr>\n",
       "  </tbody>\n",
       "</table>\n",
       "</div>"
      ],
      "text/plain": [
       "                                           Job_Title               Company  \\\n",
       "0                                     Data Scientist             HDFC Bank   \n",
       "1                                     Data Scientist                 Shell   \n",
       "2                        Senior/ Lead Data Scientist          AmoliTalents   \n",
       "3                           Data Scientist / Analyst      open data fabric   \n",
       "4    Forecasting Analyst/ Data Scientist (US Client)            Concentrix   \n",
       "5  Excellent Opportunity For Freshers For AI/ML, ...              NTT Data   \n",
       "6                              Junior Data Scientist                 Titan   \n",
       "7                                     Data Scientist                Amazon   \n",
       "8                                     Data Scientist  Hewlett-Packard (HP)   \n",
       "9                                     Data Scientist                 Shell   \n",
       "\n",
       "                      Salary  \\\n",
       "0  14,00,000 - 24,00,000 PA.   \n",
       "1              Not disclosed   \n",
       "2              Not disclosed   \n",
       "3              Not disclosed   \n",
       "4              Not disclosed   \n",
       "5    3,50,000 - 5,00,000 PA.   \n",
       "6              Not disclosed   \n",
       "7              Not disclosed   \n",
       "8              Not disclosed   \n",
       "9              Not disclosed   \n",
       "\n",
       "                                            Location  \n",
       "0  Pune, Gurgaon/Gurugram, Chennai, Bangalore/Ben...  \n",
       "1                                Bangalore/Bengaluru  \n",
       "2                                Bangalore/Bengaluru  \n",
       "3                                Bangalore/Bengaluru  \n",
       "4  Gurgaon/Gurugram, Bangalore/Bengaluru\\n(WFH du...  \n",
       "5  Noida, Kolkata, Hyderabad/Secunderabad, Pune, ...  \n",
       "6                                Bangalore/Bengaluru  \n",
       "7  Hyderabad/Secunderabad, Pune, Bangalore/Bengaluru  \n",
       "8                                Bangalore/Bengaluru  \n",
       "9                                Bangalore/Bengaluru  "
      ]
     },
     "execution_count": 29,
     "metadata": {},
     "output_type": "execute_result"
    }
   ],
   "source": [
    "import pandas as pd\n",
    "Data_Scientist = pd.DataFrame({'Job_Title':job_title[0:10],\n",
    "                               'Company':company_name[0:10],\n",
    "                               'Salary':salary[0:10],\n",
    "                               'Location':location[0:10]})\n",
    "Data_Scientist"
   ]
  },
  {
   "cell_type": "code",
   "execution_count": null,
   "id": "97afe388",
   "metadata": {},
   "outputs": [],
   "source": []
  },
  {
   "cell_type": "markdown",
   "id": "ed6282ae",
   "metadata": {},
   "source": [
    "# Q3. Scrap Data Using Filters "
   ]
  },
  {
   "cell_type": "code",
   "execution_count": 30,
   "id": "cebbd028",
   "metadata": {},
   "outputs": [],
   "source": [
    "driver = webdriver.Chrome(r'C:\\Users\\Nitin Patel\\chromedriver_win32/chromedriver')\n",
    "driver.get('https://www.naukri.com/')\n",
    "time.sleep(3)\n",
    "driver.maximize_window()\n",
    "time.sleep(5)\n",
    "\n",
    "#Entering field of job-title\n",
    "job_title = driver.find_element_by_xpath('/html/body/div/div[2]/div[3]/div/div/div[1]/div/div/div/input')\n",
    "job_title.send_keys('Data Scientist')\n",
    "time.sleep(3)\n",
    "\n",
    "#closing chatbot pop-up\n",
    "try:\n",
    "    close_chat = driver.find_element_by_xpath('//*[@id=\"root\"]/div[2]/div[4]/div/div[2]/div[2]/div[1]/div[1]/div/i[2]')\n",
    "    close_chat.click()\n",
    "except:\n",
    "    pass\n",
    "time.sleep(3)\n",
    "\n",
    "#Clicking search button\n",
    "search = driver.find_element_by_xpath('//*[@id=\"root\"]/div[2]/div[3]/div/div/div[6]')\n",
    "search.click()"
   ]
  },
  {
   "cell_type": "code",
   "execution_count": 31,
   "id": "bd81b32a",
   "metadata": {},
   "outputs": [],
   "source": [
    "filter_loc = driver.find_element_by_xpath('/html/body/div[1]/div[3]/div[2]/section[1]/div[2]/div[3]/div[2]/div[3]/label/i')\n",
    "filter_loc.click()\n",
    "time.sleep(2)\n",
    "\n",
    "filter_salary = driver.find_element_by_xpath('/html/body/div[1]/div[3]/div[2]/section[1]/div[2]/div[4]/div[2]/div[2]/label/i')\n",
    "filter_salary.click()"
   ]
  },
  {
   "cell_type": "code",
   "execution_count": 33,
   "id": "f65d7529",
   "metadata": {},
   "outputs": [],
   "source": [
    "job_title = []\n",
    "title = driver.find_elements_by_xpath('//a[@class=\"title fw500 ellipsis\"]')\n",
    "for i in title:\n",
    "    job_title.append(i.text)\n"
   ]
  },
  {
   "cell_type": "code",
   "execution_count": 34,
   "id": "82c4e137",
   "metadata": {},
   "outputs": [],
   "source": [
    "company_name = []\n",
    "name = driver.find_elements_by_xpath('//a[@class=\"subTitle ellipsis fleft\"]')\n",
    "for i in name:\n",
    "    company_name.append(i.text)\n"
   ]
  },
  {
   "cell_type": "code",
   "execution_count": 35,
   "id": "b7efac53",
   "metadata": {},
   "outputs": [
    {
     "data": {
      "text/plain": [
       "['Noida, Kolkata, Hyderabad/Secunderabad, Pune, Chennai, Bangalore/Bengaluru, Delhi / NCR, Mumbai (All Areas)\\n(WFH during Covid)',\n",
       " 'Noida, New Delhi, Delhi / NCR',\n",
       " 'Kolkata, Hyderabad/Secunderabad, Pune, Ahmedabad, Chennai, Bangalore/Bengaluru, Delhi / NCR, Mumbai (All Areas)\\n(WFH during Covid)',\n",
       " 'Noida',\n",
       " 'Noida',\n",
       " 'Noida, Pune, Mumbai (All Areas)',\n",
       " 'Noida, New Delhi, Gurgaon/Gurugram',\n",
       " 'Delhi / NCR\\n(WFH during Covid)',\n",
       " 'Noida, Delhi / NCR',\n",
       " 'New Delhi',\n",
       " 'Noida',\n",
       " 'Delhi',\n",
       " 'New Delhi',\n",
       " 'Noida, New Delhi, Bangalore Rural, Bangalore/Bengaluru, Delhi / NCR\\n(WFH during Covid)',\n",
       " 'Gurgaon, Bengaluru',\n",
       " 'Bharuch, Jaipur, Bhopal, Mumbai, Jhansi, Nagpur, Ghaziabad, Jaunpur, Kanpur, Delhi, Lucknow, Agra, Gurgaon, Rajkot, Bengaluru',\n",
       " 'Hyderabad/Secunderabad, Bangalore/Bengaluru, Delhi / NCR\\n(WFH during Covid)',\n",
       " 'Delhi',\n",
       " 'Delhi',\n",
       " 'Gurgaon/Gurugram']"
      ]
     },
     "execution_count": 35,
     "metadata": {},
     "output_type": "execute_result"
    }
   ],
   "source": [
    "job_location =[]\n",
    "locate = driver.find_elements_by_xpath('//li[@class=\"fleft grey-text br2 placeHolderLi location\"]')\n",
    "for i in locate:\n",
    "    job_location.append(i.text)\n",
    "job_location"
   ]
  },
  {
   "cell_type": "code",
   "execution_count": 36,
   "id": "91ffd100",
   "metadata": {},
   "outputs": [
    {
     "data": {
      "text/plain": [
       "20"
      ]
     },
     "execution_count": 36,
     "metadata": {},
     "output_type": "execute_result"
    }
   ],
   "source": [
    "job_experience = []\n",
    "exper = driver.find_elements_by_xpath('//li[@class=\"fleft grey-text br2 placeHolderLi experience\"]')\n",
    "for i in exper:\n",
    "    job_experience.append(i.text)\n",
    "len(job_experience)"
   ]
  },
  {
   "cell_type": "code",
   "execution_count": 38,
   "id": "2d132406",
   "metadata": {},
   "outputs": [
    {
     "data": {
      "text/html": [
       "<div>\n",
       "<style scoped>\n",
       "    .dataframe tbody tr th:only-of-type {\n",
       "        vertical-align: middle;\n",
       "    }\n",
       "\n",
       "    .dataframe tbody tr th {\n",
       "        vertical-align: top;\n",
       "    }\n",
       "\n",
       "    .dataframe thead th {\n",
       "        text-align: right;\n",
       "    }\n",
       "</style>\n",
       "<table border=\"1\" class=\"dataframe\">\n",
       "  <thead>\n",
       "    <tr style=\"text-align: right;\">\n",
       "      <th></th>\n",
       "      <th>Job Title</th>\n",
       "      <th>Company</th>\n",
       "      <th>Experience Required</th>\n",
       "      <th>Location</th>\n",
       "    </tr>\n",
       "  </thead>\n",
       "  <tbody>\n",
       "    <tr>\n",
       "      <th>0</th>\n",
       "      <td>Excellent Opportunity For Freshers For AI/ML, ...</td>\n",
       "      <td>NTT Data</td>\n",
       "      <td>0-0 Yrs</td>\n",
       "      <td>Noida, Kolkata, Hyderabad/Secunderabad, Pune, ...</td>\n",
       "    </tr>\n",
       "    <tr>\n",
       "      <th>1</th>\n",
       "      <td>Data Analyst / Data Scientist / Business Analy...</td>\n",
       "      <td>GABA Consultancy services</td>\n",
       "      <td>0-0 Yrs</td>\n",
       "      <td>Noida, New Delhi, Delhi / NCR</td>\n",
       "    </tr>\n",
       "    <tr>\n",
       "      <th>2</th>\n",
       "      <td>Junior Data Analyst/ Scientist- Fresher Position</td>\n",
       "      <td>Sejal Consulting Hub</td>\n",
       "      <td>0-3 Yrs</td>\n",
       "      <td>Kolkata, Hyderabad/Secunderabad, Pune, Ahmedab...</td>\n",
       "    </tr>\n",
       "    <tr>\n",
       "      <th>3</th>\n",
       "      <td>Data Scientist - MIND Infotech</td>\n",
       "      <td>MOTHERSONSUMI INFOTECH &amp; DESIGNS LIMITED</td>\n",
       "      <td>4-8 Yrs</td>\n",
       "      <td>Noida</td>\n",
       "    </tr>\n",
       "    <tr>\n",
       "      <th>4</th>\n",
       "      <td>Data Scientist - MIND Infotech</td>\n",
       "      <td>MOTHERSONSUMI INFOTECH &amp; DESIGNS LIMITED</td>\n",
       "      <td>4-8 Yrs</td>\n",
       "      <td>Noida</td>\n",
       "    </tr>\n",
       "    <tr>\n",
       "      <th>5</th>\n",
       "      <td>Hiring For Data Scientist</td>\n",
       "      <td>Lumiq.ai</td>\n",
       "      <td>2-7 Yrs</td>\n",
       "      <td>Noida, Pune, Mumbai (All Areas)</td>\n",
       "    </tr>\n",
       "    <tr>\n",
       "      <th>6</th>\n",
       "      <td>Only Fresher / Python Data Scientist / Trainee...</td>\n",
       "      <td>GABA Consultancy services</td>\n",
       "      <td>0-0 Yrs</td>\n",
       "      <td>Noida, New Delhi, Gurgaon/Gurugram</td>\n",
       "    </tr>\n",
       "    <tr>\n",
       "      <th>7</th>\n",
       "      <td>Lead Data Scientist</td>\n",
       "      <td>Indihire HR Consultants Private Limited</td>\n",
       "      <td>2-4 Yrs</td>\n",
       "      <td>Delhi / NCR\\n(WFH during Covid)</td>\n",
       "    </tr>\n",
       "    <tr>\n",
       "      <th>8</th>\n",
       "      <td>Urgent Requirement || Data Scientist || Noida</td>\n",
       "      <td>HCL</td>\n",
       "      <td>3-8 Yrs</td>\n",
       "      <td>Noida, Delhi / NCR</td>\n",
       "    </tr>\n",
       "    <tr>\n",
       "      <th>9</th>\n",
       "      <td>Data Scientist</td>\n",
       "      <td>Boston Consulting Group</td>\n",
       "      <td>2-5 Yrs</td>\n",
       "      <td>New Delhi</td>\n",
       "    </tr>\n",
       "  </tbody>\n",
       "</table>\n",
       "</div>"
      ],
      "text/plain": [
       "                                           Job Title  \\\n",
       "0  Excellent Opportunity For Freshers For AI/ML, ...   \n",
       "1  Data Analyst / Data Scientist / Business Analy...   \n",
       "2   Junior Data Analyst/ Scientist- Fresher Position   \n",
       "3                     Data Scientist - MIND Infotech   \n",
       "4                     Data Scientist - MIND Infotech   \n",
       "5                          Hiring For Data Scientist   \n",
       "6  Only Fresher / Python Data Scientist / Trainee...   \n",
       "7                                Lead Data Scientist   \n",
       "8      Urgent Requirement || Data Scientist || Noida   \n",
       "9                                     Data Scientist   \n",
       "\n",
       "                                    Company Experience Required  \\\n",
       "0                                  NTT Data             0-0 Yrs   \n",
       "1                 GABA Consultancy services             0-0 Yrs   \n",
       "2                      Sejal Consulting Hub             0-3 Yrs   \n",
       "3  MOTHERSONSUMI INFOTECH & DESIGNS LIMITED             4-8 Yrs   \n",
       "4  MOTHERSONSUMI INFOTECH & DESIGNS LIMITED             4-8 Yrs   \n",
       "5                                  Lumiq.ai             2-7 Yrs   \n",
       "6                 GABA Consultancy services             0-0 Yrs   \n",
       "7   Indihire HR Consultants Private Limited             2-4 Yrs   \n",
       "8                                       HCL             3-8 Yrs   \n",
       "9                   Boston Consulting Group             2-5 Yrs   \n",
       "\n",
       "                                            Location  \n",
       "0  Noida, Kolkata, Hyderabad/Secunderabad, Pune, ...  \n",
       "1                      Noida, New Delhi, Delhi / NCR  \n",
       "2  Kolkata, Hyderabad/Secunderabad, Pune, Ahmedab...  \n",
       "3                                              Noida  \n",
       "4                                              Noida  \n",
       "5                    Noida, Pune, Mumbai (All Areas)  \n",
       "6                 Noida, New Delhi, Gurgaon/Gurugram  \n",
       "7                    Delhi / NCR\\n(WFH during Covid)  \n",
       "8                                 Noida, Delhi / NCR  \n",
       "9                                          New Delhi  "
      ]
     },
     "execution_count": 38,
     "metadata": {},
     "output_type": "execute_result"
    }
   ],
   "source": [
    "DataSc_filter = pd.DataFrame({'Job Title':job_title,'Company':company_name,'Experience Required':job_experience,\n",
    "                             'Location':job_location})\n",
    "DataSc_filter.head(10)"
   ]
  },
  {
   "cell_type": "code",
   "execution_count": null,
   "id": "e053e9d0",
   "metadata": {},
   "outputs": [],
   "source": []
  },
  {
   "cell_type": "markdown",
   "id": "abae92e8",
   "metadata": {},
   "source": [
    "# Q4. Scrap first 100 Datas from flipkart.com"
   ]
  },
  {
   "cell_type": "code",
   "execution_count": 50,
   "id": "b8f72ce6",
   "metadata": {},
   "outputs": [],
   "source": [
    "driver = webdriver.Chrome(r'C:\\Users\\Nitin Patel\\chromedriver_win32\\chromedriver')\n",
    "driver.get('https://www.flipkart.com/')\n",
    "time.sleep(2)\n",
    "driver.maximize_window()\n",
    "time.sleep(1)"
   ]
  },
  {
   "cell_type": "code",
   "execution_count": 51,
   "id": "36a9cf3d",
   "metadata": {},
   "outputs": [],
   "source": [
    "search = driver.find_element_by_xpath('//input[@class=\"_3704LK\"]')\n",
    "search.send_keys('Sunglasses')\n",
    "time.sleep(2)\n",
    "\n",
    "search_btn = driver.find_element_by_xpath('/html/body/div[1]/div/div[1]/div[1]/div[2]/div[2]/form/div/button')\n",
    "search_btn.click()"
   ]
  },
  {
   "cell_type": "code",
   "execution_count": 56,
   "id": "78a615d1",
   "metadata": {},
   "outputs": [
    {
     "data": {
      "text/plain": [
       "['https://www.flipkart.com/search?q=Sunglasses&otracker=search&otracker1=search&marketplace=FLIPKART&as-show=on&as=off&page=1',\n",
       " 'https://www.flipkart.com/search?q=Sunglasses&otracker=search&otracker1=search&marketplace=FLIPKART&as-show=on&as=off&page=2',\n",
       " 'https://www.flipkart.com/search?q=Sunglasses&otracker=search&otracker1=search&marketplace=FLIPKART&as-show=on&as=off&page=3',\n",
       " 'https://www.flipkart.com/search?q=Sunglasses&otracker=search&otracker1=search&marketplace=FLIPKART&as-show=on&as=off&page=4',\n",
       " 'https://www.flipkart.com/search?q=Sunglasses&otracker=search&otracker1=search&marketplace=FLIPKART&as-show=on&as=off&page=5',\n",
       " 'https://www.flipkart.com/search?q=Sunglasses&otracker=search&otracker1=search&marketplace=FLIPKART&as-show=on&as=off&page=6',\n",
       " 'https://www.flipkart.com/search?q=Sunglasses&otracker=search&otracker1=search&marketplace=FLIPKART&as-show=on&as=off&page=7',\n",
       " 'https://www.flipkart.com/search?q=Sunglasses&otracker=search&otracker1=search&marketplace=FLIPKART&as-show=on&as=off&page=8',\n",
       " 'https://www.flipkart.com/search?q=Sunglasses&otracker=search&otracker1=search&marketplace=FLIPKART&as-show=on&as=off&page=9',\n",
       " 'https://www.flipkart.com/search?q=Sunglasses&otracker=search&otracker1=search&marketplace=FLIPKART&as-show=on&as=off&page=10',\n",
       " 'https://www.flipkart.com/search?q=Sunglasses&otracker=search&otracker1=search&marketplace=FLIPKART&as-show=on&as=off&page=2']"
      ]
     },
     "execution_count": 56,
     "metadata": {},
     "output_type": "execute_result"
    }
   ],
   "source": [
    "page_url = []\n",
    "pages = driver.find_elements_by_xpath('//nav[@class=\"yFHi8N\"]/a')\n",
    "for i in pages:\n",
    "    page_url.append(i.get_attribute('href'))\n",
    "    #pages[0].get_attribute('href')\n",
    "    \n",
    "page_url"
   ]
  },
  {
   "cell_type": "code",
   "execution_count": 71,
   "id": "ba2d36a0",
   "metadata": {},
   "outputs": [
    {
     "data": {
      "text/plain": [
       "120"
      ]
     },
     "execution_count": 71,
     "metadata": {},
     "output_type": "execute_result"
    }
   ],
   "source": [
    "brand = []\n",
    "for k in page_url[0:3]:\n",
    "    driver.get(k)\n",
    "    name = driver.find_elements_by_xpath('//div[@class=\"_2WkVRV\"]')\n",
    "    for i in name:\n",
    "        brand.append(i.text)\n",
    "len(brand)"
   ]
  },
  {
   "cell_type": "code",
   "execution_count": 74,
   "id": "71082134",
   "metadata": {},
   "outputs": [
    {
     "data": {
      "text/plain": [
       "120"
      ]
     },
     "execution_count": 74,
     "metadata": {},
     "output_type": "execute_result"
    }
   ],
   "source": [
    "prod_info = []\n",
    "for k in page_url[0:3]:\n",
    "    driver.get(k)\n",
    "    snip = driver.find_elements_by_xpath('//div[@class=\"_2B099V\"]/a[1]')\n",
    "    for i in snip:\n",
    "        prod_info.append(i.text)\n",
    "    \n",
    "len(prod_info)"
   ]
  },
  {
   "cell_type": "code",
   "execution_count": null,
   "id": "d4c00ebb",
   "metadata": {},
   "outputs": [],
   "source": []
  },
  {
   "cell_type": "code",
   "execution_count": 66,
   "id": "ff72cef4",
   "metadata": {},
   "outputs": [],
   "source": [
    "price = []\n",
    "for k in page_url[0:3]:\n",
    "    driver.get(k)\n",
    "    later = driver.find_elements_by_xpath('//div[@class=\"_30jeq3\"]')\n",
    "    for i in later:\n",
    "        price.append(i.text)"
   ]
  },
  {
   "cell_type": "code",
   "execution_count": 69,
   "id": "7ce40b00",
   "metadata": {},
   "outputs": [],
   "source": [
    "discount = []\n",
    "for k in page_url[0:3]:\n",
    "    driver.get(k)\n",
    "    off = driver.find_elements_by_xpath('//div[@class=\"_3Ay6Sb\"]/span')\n",
    "    for i in off:\n",
    "        discount.append(i.text)"
   ]
  },
  {
   "cell_type": "code",
   "execution_count": null,
   "id": "e69840ef",
   "metadata": {},
   "outputs": [],
   "source": []
  },
  {
   "cell_type": "code",
   "execution_count": 75,
   "id": "69b70cc8",
   "metadata": {},
   "outputs": [
    {
     "data": {
      "text/html": [
       "<div>\n",
       "<style scoped>\n",
       "    .dataframe tbody tr th:only-of-type {\n",
       "        vertical-align: middle;\n",
       "    }\n",
       "\n",
       "    .dataframe tbody tr th {\n",
       "        vertical-align: top;\n",
       "    }\n",
       "\n",
       "    .dataframe thead th {\n",
       "        text-align: right;\n",
       "    }\n",
       "</style>\n",
       "<table border=\"1\" class=\"dataframe\">\n",
       "  <thead>\n",
       "    <tr style=\"text-align: right;\">\n",
       "      <th></th>\n",
       "      <th>Brand Name</th>\n",
       "      <th>Product Description</th>\n",
       "      <th>Price after Discount</th>\n",
       "      <th>Discount Applied</th>\n",
       "    </tr>\n",
       "  </thead>\n",
       "  <tbody>\n",
       "    <tr>\n",
       "      <th>0</th>\n",
       "      <td>ROZZETTA CRAFT</td>\n",
       "      <td>UV Protection, Gradient Rectangular Sunglasses...</td>\n",
       "      <td>₹349</td>\n",
       "      <td>82% off</td>\n",
       "    </tr>\n",
       "    <tr>\n",
       "      <th>1</th>\n",
       "      <td>ROZZETTA CRAFT</td>\n",
       "      <td>UV Protection, Riding Glasses Rectangular Sung...</td>\n",
       "      <td>₹625</td>\n",
       "      <td>75% off</td>\n",
       "    </tr>\n",
       "    <tr>\n",
       "      <th>2</th>\n",
       "      <td>SRPM</td>\n",
       "      <td>UV Protection Wayfarer Sunglasses (50)</td>\n",
       "      <td>₹148</td>\n",
       "      <td>88% off</td>\n",
       "    </tr>\n",
       "    <tr>\n",
       "      <th>3</th>\n",
       "      <td>SUNBEE</td>\n",
       "      <td>UV Protection, Polarized Wayfarer Sunglasses (...</td>\n",
       "      <td>₹203</td>\n",
       "      <td>84% off</td>\n",
       "    </tr>\n",
       "    <tr>\n",
       "      <th>4</th>\n",
       "      <td>PIRASO</td>\n",
       "      <td>UV Protection Aviator Sunglasses (54)</td>\n",
       "      <td>₹179</td>\n",
       "      <td>88% off</td>\n",
       "    </tr>\n",
       "    <tr>\n",
       "      <th>...</th>\n",
       "      <td>...</td>\n",
       "      <td>...</td>\n",
       "      <td>...</td>\n",
       "      <td>...</td>\n",
       "    </tr>\n",
       "    <tr>\n",
       "      <th>115</th>\n",
       "      <td>Singco India</td>\n",
       "      <td>UV Protection, Gradient Wayfarer Sunglasses (58)</td>\n",
       "      <td>₹231</td>\n",
       "      <td>88% off</td>\n",
       "    </tr>\n",
       "    <tr>\n",
       "      <th>116</th>\n",
       "      <td>ROYAL SON</td>\n",
       "      <td>UV Protection, Mirrored Wayfarer Sunglasses (F...</td>\n",
       "      <td>₹329</td>\n",
       "      <td>78% off</td>\n",
       "    </tr>\n",
       "    <tr>\n",
       "      <th>117</th>\n",
       "      <td>Fastrack</td>\n",
       "      <td>UV Protection, Gradient Wayfarer Sunglasses (53)</td>\n",
       "      <td>₹699</td>\n",
       "      <td>22% off</td>\n",
       "    </tr>\n",
       "    <tr>\n",
       "      <th>118</th>\n",
       "      <td>GANSTA</td>\n",
       "      <td>Mirrored, Gradient, Riding Glasses Round Sungl...</td>\n",
       "      <td>₹281</td>\n",
       "      <td>85% off</td>\n",
       "    </tr>\n",
       "    <tr>\n",
       "      <th>119</th>\n",
       "      <td>ROZZETTA CRAFT</td>\n",
       "      <td>Polarized, Night Vision, Riding Glasses Sports...</td>\n",
       "      <td>₹391</td>\n",
       "      <td>88% off</td>\n",
       "    </tr>\n",
       "  </tbody>\n",
       "</table>\n",
       "<p>120 rows × 4 columns</p>\n",
       "</div>"
      ],
      "text/plain": [
       "         Brand Name                                Product Description  \\\n",
       "0    ROZZETTA CRAFT  UV Protection, Gradient Rectangular Sunglasses...   \n",
       "1    ROZZETTA CRAFT  UV Protection, Riding Glasses Rectangular Sung...   \n",
       "2              SRPM             UV Protection Wayfarer Sunglasses (50)   \n",
       "3            SUNBEE  UV Protection, Polarized Wayfarer Sunglasses (...   \n",
       "4            PIRASO              UV Protection Aviator Sunglasses (54)   \n",
       "..              ...                                                ...   \n",
       "115    Singco India   UV Protection, Gradient Wayfarer Sunglasses (58)   \n",
       "116       ROYAL SON  UV Protection, Mirrored Wayfarer Sunglasses (F...   \n",
       "117        Fastrack   UV Protection, Gradient Wayfarer Sunglasses (53)   \n",
       "118          GANSTA  Mirrored, Gradient, Riding Glasses Round Sungl...   \n",
       "119  ROZZETTA CRAFT  Polarized, Night Vision, Riding Glasses Sports...   \n",
       "\n",
       "    Price after Discount Discount Applied  \n",
       "0                   ₹349          82% off  \n",
       "1                   ₹625          75% off  \n",
       "2                   ₹148          88% off  \n",
       "3                   ₹203          84% off  \n",
       "4                   ₹179          88% off  \n",
       "..                   ...              ...  \n",
       "115                 ₹231          88% off  \n",
       "116                 ₹329          78% off  \n",
       "117                 ₹699          22% off  \n",
       "118                 ₹281          85% off  \n",
       "119                 ₹391          88% off  \n",
       "\n",
       "[120 rows x 4 columns]"
      ]
     },
     "execution_count": 75,
     "metadata": {},
     "output_type": "execute_result"
    }
   ],
   "source": [
    "Sunglasses = pd.DataFrame({'Brand Name':brand,\n",
    "                          'Product Description': prod_info,\n",
    "                          'Price after Discount':price,\n",
    "                          'Discount Applied': discount})\n",
    "Sunglasses"
   ]
  },
  {
   "cell_type": "code",
   "execution_count": null,
   "id": "7b373324",
   "metadata": {},
   "outputs": [],
   "source": []
  },
  {
   "cell_type": "markdown",
   "id": "ff37a35d",
   "metadata": {},
   "source": [
    "# Q5. Scrap 100 reviews"
   ]
  },
  {
   "cell_type": "code",
   "execution_count": 18,
   "id": "9ebb322e",
   "metadata": {},
   "outputs": [],
   "source": [
    "driver = webdriver.Chrome(r'C:\\Users\\Nitin Patel\\chromedriver_win32/chromedriver')\n",
    "driver.get('https://www.flipkart.com/apple-iphone-11-black-64-gb-includes- earpods-power- adapter/p/itm0f37c2240b217?pid=MOBFKCTSVZAXUHGR&lid=LSTMOBFKC TSVZAXUHGREPBFGI&marketplace.')\n",
    "time.sleep(3)\n",
    "driver.maximize_window()"
   ]
  },
  {
   "cell_type": "code",
   "execution_count": 19,
   "id": "d9dbd86b",
   "metadata": {},
   "outputs": [],
   "source": [
    "open_review = driver.find_element_by_xpath('//div[@class=\"_3UAT2v _16PBlm\"]/span')\n",
    "open_review.click()"
   ]
  },
  {
   "cell_type": "code",
   "execution_count": 20,
   "id": "f0e03794",
   "metadata": {},
   "outputs": [
    {
     "data": {
      "text/plain": [
       "['https://www.flipkart.com/apple-iphone-11-black-64-gb-includes-earpods-power-adapter/product-reviews/itm0f37c2240b217?pid=MOBFKCTSVZAXUHGR&lid=LSTMOBFKCTSVZAXUHGR3IXQLM&marketplace=FLIPKART&page=1',\n",
       " 'https://www.flipkart.com/apple-iphone-11-black-64-gb-includes-earpods-power-adapter/product-reviews/itm0f37c2240b217?pid=MOBFKCTSVZAXUHGR&lid=LSTMOBFKCTSVZAXUHGR3IXQLM&marketplace=FLIPKART&page=2',\n",
       " 'https://www.flipkart.com/apple-iphone-11-black-64-gb-includes-earpods-power-adapter/product-reviews/itm0f37c2240b217?pid=MOBFKCTSVZAXUHGR&lid=LSTMOBFKCTSVZAXUHGR3IXQLM&marketplace=FLIPKART&page=3',\n",
       " 'https://www.flipkart.com/apple-iphone-11-black-64-gb-includes-earpods-power-adapter/product-reviews/itm0f37c2240b217?pid=MOBFKCTSVZAXUHGR&lid=LSTMOBFKCTSVZAXUHGR3IXQLM&marketplace=FLIPKART&page=4',\n",
       " 'https://www.flipkart.com/apple-iphone-11-black-64-gb-includes-earpods-power-adapter/product-reviews/itm0f37c2240b217?pid=MOBFKCTSVZAXUHGR&lid=LSTMOBFKCTSVZAXUHGR3IXQLM&marketplace=FLIPKART&page=5',\n",
       " 'https://www.flipkart.com/apple-iphone-11-black-64-gb-includes-earpods-power-adapter/product-reviews/itm0f37c2240b217?pid=MOBFKCTSVZAXUHGR&lid=LSTMOBFKCTSVZAXUHGR3IXQLM&marketplace=FLIPKART&page=6',\n",
       " 'https://www.flipkart.com/apple-iphone-11-black-64-gb-includes-earpods-power-adapter/product-reviews/itm0f37c2240b217?pid=MOBFKCTSVZAXUHGR&lid=LSTMOBFKCTSVZAXUHGR3IXQLM&marketplace=FLIPKART&page=7',\n",
       " 'https://www.flipkart.com/apple-iphone-11-black-64-gb-includes-earpods-power-adapter/product-reviews/itm0f37c2240b217?pid=MOBFKCTSVZAXUHGR&lid=LSTMOBFKCTSVZAXUHGR3IXQLM&marketplace=FLIPKART&page=8',\n",
       " 'https://www.flipkart.com/apple-iphone-11-black-64-gb-includes-earpods-power-adapter/product-reviews/itm0f37c2240b217?pid=MOBFKCTSVZAXUHGR&lid=LSTMOBFKCTSVZAXUHGR3IXQLM&marketplace=FLIPKART&page=9',\n",
       " 'https://www.flipkart.com/apple-iphone-11-black-64-gb-includes-earpods-power-adapter/product-reviews/itm0f37c2240b217?pid=MOBFKCTSVZAXUHGR&lid=LSTMOBFKCTSVZAXUHGR3IXQLM&marketplace=FLIPKART&page=10',\n",
       " 'https://www.flipkart.com/apple-iphone-11-black-64-gb-includes-earpods-power-adapter/product-reviews/itm0f37c2240b217?pid=MOBFKCTSVZAXUHGR&lid=LSTMOBFKCTSVZAXUHGR3IXQLM&marketplace=FLIPKART&page=2']"
      ]
     },
     "execution_count": 20,
     "metadata": {},
     "output_type": "execute_result"
    }
   ],
   "source": [
    "pages_url = []\n",
    "link = driver.find_elements_by_xpath('//nav[@class=\"yFHi8N\"]/a')\n",
    "for i in link:\n",
    "    pages_url.append(i.get_attribute('href'))\n",
    "pages_url"
   ]
  },
  {
   "cell_type": "code",
   "execution_count": 87,
   "id": "e0a5438a",
   "metadata": {},
   "outputs": [
    {
     "data": {
      "text/plain": [
       "['',\n",
       " '',\n",
       " '',\n",
       " '1',\n",
       " 'Products damage',\n",
       " 'Products damage',\n",
       " 'Products damage',\n",
       " '',\n",
       " '4010',\n",
       " '40',\n",
       " '10',\n",
       " '',\n",
       " '',\n",
       " '',\n",
       " '',\n",
       " '5',\n",
       " 'Well you all know the specifications . One of a kind. Best iPhone till date. Many enhancements to the camera app with many options. Love the glass body with matte finish in the lens area on the back. Lovely colours to choose from. Best battery in an iPhone till date, enough to last more than a day in normal usage. I tested my iPhone 11 battery and lasted for than 24 hours after full charge still with 30% battery charge left. Watched movies for some time. Normal usage on calls, browsing, musi...\\nREAD MORE',\n",
       " 'Well you all know the specifications . One of a kind. Best iPhone till date. Many enhancements to the camera app with many options. Love the glass body with matte finish in the lens area on the back. Lovely colours to choose from. Best battery in an iPhone till date, enough to last more than a day in normal usage. I tested my iPhone 11 battery and lasted for than 24 hours after full charge still with 30% battery charge left. Watched movies for some time. Normal usage on calls, browsing, musi...\\nREAD MORE',\n",
       " 'Well you all know the specifications . One of a kind. Best iPhone till date. Many enhancements to the camera app with many options. Love the glass body with matte finish in the lens area on the back. Lovely colours to choose from. Best battery in an iPhone till date, enough to last more than a day in normal usage. I tested my iPhone 11 battery and lasted for than 24 hours after full charge still with 30% battery charge left. Watched movies for some time. Normal usage on calls, browsing, musi...',\n",
       " '',\n",
       " '265105',\n",
       " '265',\n",
       " '105',\n",
       " '',\n",
       " '',\n",
       " '',\n",
       " '',\n",
       " '5',\n",
       " 'A perfect phone and a good battery super camera and the sound is dynamic overall the phone is perfect for upgrading from lower iPhone model to iPhone 11',\n",
       " 'A perfect phone and a good battery super camera and the sound is dynamic overall the phone is perfect for upgrading from lower iPhone model to iPhone 11',\n",
       " 'A perfect phone and a good battery super camera and the sound is dynamic overall the phone is perfect for upgrading from lower iPhone model to iPhone 11',\n",
       " '',\n",
       " '111',\n",
       " '11',\n",
       " '1',\n",
       " '',\n",
       " '',\n",
       " '',\n",
       " '',\n",
       " '1',\n",
       " 'New Phone worked for 2 weeks. After it gone dead without any reason and unfortunately lockdown hence at repair center for last 2 weeks. There were a exchange offer for old phone but they deducted amount saying one scratch on edge of old phone, infact any phone if u use for 1 month, if u use ring on ur finger it will come. It was not at all visible. The display, battery, performance for the old phone was perfect, still they deducted. With this experience i suggest you to buy phones from author...\\nREAD MORE',\n",
       " 'New Phone worked for 2 weeks. After it gone dead without any reason and unfortunately lockdown hence at repair center for last 2 weeks. There were a exchange offer for old phone but they deducted amount saying one scratch on edge of old phone, infact any phone if u use for 1 month, if u use ring on ur finger it will come. It was not at all visible. The display, battery, performance for the old phone was perfect, still they deducted. With this experience i suggest you to buy phones from author...\\nREAD MORE',\n",
       " 'New Phone worked for 2 weeks. After it gone dead without any reason and unfortunately lockdown hence at repair center for last 2 weeks. There were a exchange offer for old phone but they deducted amount saying one scratch on edge of old phone, infact any phone if u use for 1 month, if u use ring on ur finger it will come. It was not at all visible. The display, battery, performance for the old phone was perfect, still they deducted. With this experience i suggest you to buy phones from author...',\n",
       " '',\n",
       " '183',\n",
       " '18',\n",
       " '3',\n",
       " '',\n",
       " '',\n",
       " '',\n",
       " '',\n",
       " '5',\n",
       " 'First thanks to Flipkart for this amazing deal and phone is outstanding. I upgraded from iPhone 7 and this is like very big upgrade. But the packaging was very basic I expected a good packaging as they only wrapped one layer of bubble wrap which I don’t think is enough to protect this expensive phone. And I recommend this phone and seller as well.\\n\\nAnd I’m posting this review after using it for 4 days.',\n",
       " 'First thanks to Flipkart for this amazing deal and phone is outstanding. I upgraded from iPhone 7 and this is like very big upgrade. But the packaging was very basic I expected a good packaging as they only wrapped one layer of bubble wrap which I don’t think is enough to protect this expensive phone. And I recommend this phone and seller as well.\\n\\nAnd I’m posting this review after using it for 4 days.',\n",
       " 'First thanks to Flipkart for this amazing deal and phone is outstanding. I upgraded from iPhone 7 and this is like very big upgrade. But the packaging was very basic I expected a good packaging as they only wrapped one layer of bubble wrap which I don’t think is enough to protect this expensive phone. And I recommend this phone and seller as well.\\n\\nAnd I’m posting this review after using it for 4 days.',\n",
       " '',\n",
       " '8229',\n",
       " '82',\n",
       " '29',\n",
       " '',\n",
       " '',\n",
       " '',\n",
       " '',\n",
       " '5',\n",
       " 'This will help you more. See if you are planning to buy iPhone 11. I will say. Yes. But there are some plans I just want to disclose before you buy. 1) If you are an existing iPhone X/XS/XS Max/ XR user, better you guys do not think it to buy. You guys have more or less better gadget. 2) If you are an android user and planning to buy premium phone. I will suggest them to please buy iPhone instead of buying an Android. I bet you will never go back to android after using IOS. Now I want to shar...\\nREAD MORE',\n",
       " 'This will help you more. See if you are planning to buy iPhone 11. I will say. Yes. But there are some plans I just want to disclose before you buy. 1) If you are an existing iPhone X/XS/XS Max/ XR user, better you guys do not think it to buy. You guys have more or less better gadget. 2) If you are an android user and planning to buy premium phone. I will suggest them to please buy iPhone instead of buying an Android. I bet you will never go back to android after using IOS. Now I want to shar...\\nREAD MORE',\n",
       " 'This will help you more. See if you are planning to buy iPhone 11. I will say. Yes. But there are some plans I just want to disclose before you buy. 1) If you are an existing iPhone X/XS/XS Max/ XR user, better you guys do not think it to buy. You guys have more or less better gadget. 2) If you are an android user and planning to buy premium phone. I will suggest them to please buy iPhone instead of buying an Android. I bet you will never go back to android after using IOS. Now I want to shar...',\n",
       " '',\n",
       " '13855',\n",
       " '138',\n",
       " '55',\n",
       " '',\n",
       " '',\n",
       " '',\n",
       " '',\n",
       " '5',\n",
       " 'This is my first ever iPhone.\\nAnd I truly don’t regret switching to IOS from my Android.\\n\\nIt is easily an alternative to a DSLR camera.\\nIf you’re obsessed with photos and videos, just don’t think twice or don’t compare to other androids(Samsung S10 lite or OnePlus 8/8T), as it’s far better from them in every field.\\nComparing will only make you confused.\\n\\nI am getting an average Screen on Time of around 10 hours with 30 percent left. I haven’t let my device discharged below 30 % as it aff...\\nREAD MORE',\n",
       " 'This is my first ever iPhone.\\nAnd I truly don’t regret switching to IOS from my Android.\\n\\nIt is easily an alternative to a DSLR camera.\\nIf you’re obsessed with photos and videos, just don’t think twice or don’t compare to other androids(Samsung S10 lite or OnePlus 8/8T), as it’s far better from them in every field.\\nComparing will only make you confused.\\n\\nI am getting an average Screen on Time of around 10 hours with 30 percent left. I haven’t let my device discharged below 30 % as it aff...\\nREAD MORE',\n",
       " 'This is my first ever iPhone.\\nAnd I truly don’t regret switching to IOS from my Android.\\n\\nIt is easily an alternative to a DSLR camera.\\nIf you’re obsessed with photos and videos, just don’t think twice or don’t compare to other androids(Samsung S10 lite or OnePlus 8/8T), as it’s far better from them in every field.\\nComparing will only make you confused.\\n\\nI am getting an average Screen on Time of around 10 hours with 30 percent left. I haven’t let my device discharged below 30 % as it aff...',\n",
       " '',\n",
       " '142',\n",
       " '14',\n",
       " '2',\n",
       " '',\n",
       " '',\n",
       " '',\n",
       " '',\n",
       " '5',\n",
       " 'Amazing camera and feel super machine I am not describe my feeling but this is amazing Phone I am so lucky I have this',\n",
       " 'Amazing camera and feel super machine I am not describe my feeling but this is amazing Phone I am so lucky I have this',\n",
       " 'Amazing camera and feel super machine I am not describe my feeling but this is amazing Phone I am so lucky I have this',\n",
       " '',\n",
       " '12051',\n",
       " '120',\n",
       " '51',\n",
       " '',\n",
       " '',\n",
       " '',\n",
       " '',\n",
       " '5',\n",
       " 'Superfast delivery by Flipkart. Thanks.\\n\\n1. iPhone 11 is a pretty solid phone for the money you are paying.\\n2. All the bad reviews about the display is confusing. It’s not that bad.\\n3. I switched from a Oneplus 7t. I have no complaints about the display quality of iPhone. Yes, it’s not OLED, so, we are missing on the deep blacks. But that’s it. It is a very colour accurate display. Gets adequately bright and I could not find any pixelation.\\n4. Performance is one of the best, if not best, in ...\\nREAD MORE',\n",
       " 'Superfast delivery by Flipkart. Thanks.\\n\\n1. iPhone 11 is a pretty solid phone for the money you are paying.\\n2. All the bad reviews about the display is confusing. It’s not that bad.\\n3. I switched from a Oneplus 7t. I have no complaints about the display quality of iPhone. Yes, it’s not OLED, so, we are missing on the deep blacks. But that’s it. It is a very colour accurate display. Gets adequately bright and I could not find any pixelation.\\n4. Performance is one of the best, if not best, in ...\\nREAD MORE',\n",
       " 'Superfast delivery by Flipkart. Thanks.\\n\\n1. iPhone 11 is a pretty solid phone for the money you are paying.\\n2. All the bad reviews about the display is confusing. It’s not that bad.\\n3. I switched from a Oneplus 7t. I have no complaints about the display quality of iPhone. Yes, it’s not OLED, so, we are missing on the deep blacks. But that’s it. It is a very colour accurate display. Gets adequately bright and I could not find any pixelation.\\n4. Performance is one of the best, if not best, in ...',\n",
       " '',\n",
       " '4113',\n",
       " '41',\n",
       " '13',\n",
       " '',\n",
       " '',\n",
       " '',\n",
       " '']"
      ]
     },
     "execution_count": 87,
     "metadata": {},
     "output_type": "execute_result"
    }
   ],
   "source": [
    "full_info = []\n",
    "abc = driver.find_elements_by_xpath('//div[@class=\"_1YokD2 _3Mn1Gg col-9-12\"]//div//div//div//div//div[@class=\"row\"]//div')\n",
    "for i in abc:\n",
    "    full_info.append(i.text)\n",
    "full_info[12:196]"
   ]
  },
  {
   "cell_type": "code",
   "execution_count": 88,
   "id": "fb921b8f",
   "metadata": {},
   "outputs": [
    {
     "data": {
      "text/plain": [
       "123"
      ]
     },
     "execution_count": 88,
     "metadata": {},
     "output_type": "execute_result"
    }
   ],
   "source": [
    "len(full_info)"
   ]
  },
  {
   "cell_type": "code",
   "execution_count": 90,
   "id": "21527a48",
   "metadata": {},
   "outputs": [
    {
     "data": {
      "text/plain": [
       "['5',\n",
       " '1',\n",
       " '5',\n",
       " '5',\n",
       " '1',\n",
       " '5',\n",
       " '5',\n",
       " '5',\n",
       " '5',\n",
       " '5',\n",
       " '5',\n",
       " '1',\n",
       " '5',\n",
       " '5',\n",
       " '1',\n",
       " '5',\n",
       " '5',\n",
       " '5',\n",
       " '5',\n",
       " '5',\n",
       " '5',\n",
       " '1',\n",
       " '5',\n",
       " '5',\n",
       " '1',\n",
       " '5',\n",
       " '5',\n",
       " '5',\n",
       " '5',\n",
       " '5',\n",
       " '5',\n",
       " '1',\n",
       " '5',\n",
       " '5',\n",
       " '1',\n",
       " '5',\n",
       " '5',\n",
       " '5',\n",
       " '5',\n",
       " '5',\n",
       " '5',\n",
       " '1',\n",
       " '5',\n",
       " '5',\n",
       " '1',\n",
       " '5',\n",
       " '5',\n",
       " '5',\n",
       " '5',\n",
       " '5',\n",
       " '5',\n",
       " '1',\n",
       " '5',\n",
       " '5',\n",
       " '1',\n",
       " '5',\n",
       " '5',\n",
       " '5',\n",
       " '5',\n",
       " '5',\n",
       " '5',\n",
       " '1',\n",
       " '5',\n",
       " '5',\n",
       " '1',\n",
       " '5',\n",
       " '5',\n",
       " '5',\n",
       " '5',\n",
       " '5',\n",
       " '5',\n",
       " '1',\n",
       " '5',\n",
       " '5',\n",
       " '1',\n",
       " '5',\n",
       " '5',\n",
       " '5',\n",
       " '5',\n",
       " '5',\n",
       " '5',\n",
       " '1',\n",
       " '5',\n",
       " '5',\n",
       " '1',\n",
       " '5',\n",
       " '5',\n",
       " '5',\n",
       " '5',\n",
       " '5',\n",
       " '5',\n",
       " '1',\n",
       " '5',\n",
       " '5',\n",
       " '1',\n",
       " '5',\n",
       " '5',\n",
       " '5',\n",
       " '5',\n",
       " '5',\n",
       " '5',\n",
       " '1',\n",
       " '5',\n",
       " '5',\n",
       " '1',\n",
       " '5',\n",
       " '5',\n",
       " '5',\n",
       " '5',\n",
       " '5']"
      ]
     },
     "execution_count": 90,
     "metadata": {},
     "output_type": "execute_result"
    }
   ],
   "source": [
    "#sooooooo difficult to get the rating\n",
    "xyz = []\n",
    "for k in (pages_url):\n",
    "    driver.get(k)\n",
    "    for i in range(3,112,12):\n",
    "        xyz.append(full_info[i])\n",
    "xyz"
   ]
  },
  {
   "cell_type": "code",
   "execution_count": 91,
   "id": "4e17dca9",
   "metadata": {},
   "outputs": [
    {
     "data": {
      "text/plain": [
       "110"
      ]
     },
     "execution_count": 91,
     "metadata": {},
     "output_type": "execute_result"
    }
   ],
   "source": [
    "len(xyz)"
   ]
  },
  {
   "cell_type": "code",
   "execution_count": 93,
   "id": "b147436a",
   "metadata": {},
   "outputs": [
    {
     "data": {
      "text/plain": [
       "110"
      ]
     },
     "execution_count": 93,
     "metadata": {},
     "output_type": "execute_result"
    }
   ],
   "source": [
    "Summary = []\n",
    "for k in pages_url[0:11]:\n",
    "    driver.get(k)\n",
    "    short = driver.find_elements_by_xpath('//p[@class=\"_2-N8zT\"]')\n",
    "    for i in short:\n",
    "        Summary.append(i.text)\n",
    "len(Summary)"
   ]
  },
  {
   "cell_type": "code",
   "execution_count": 94,
   "id": "5bd3c8d8",
   "metadata": {},
   "outputs": [
    {
     "data": {
      "text/plain": [
       "110"
      ]
     },
     "execution_count": 94,
     "metadata": {},
     "output_type": "execute_result"
    }
   ],
   "source": [
    "Review = []\n",
    "for k in pages_url:\n",
    "    driver.get(k)\n",
    "    full_review = driver.find_elements_by_xpath('//div[@class=\"t-ZTKy\"]')\n",
    "    for i in full_review:\n",
    "        Review.append(i.text)\n",
    "len(Review)"
   ]
  },
  {
   "cell_type": "code",
   "execution_count": 96,
   "id": "0a238262",
   "metadata": {},
   "outputs": [
    {
     "data": {
      "text/html": [
       "<div>\n",
       "<style scoped>\n",
       "    .dataframe tbody tr th:only-of-type {\n",
       "        vertical-align: middle;\n",
       "    }\n",
       "\n",
       "    .dataframe tbody tr th {\n",
       "        vertical-align: top;\n",
       "    }\n",
       "\n",
       "    .dataframe thead th {\n",
       "        text-align: right;\n",
       "    }\n",
       "</style>\n",
       "<table border=\"1\" class=\"dataframe\">\n",
       "  <thead>\n",
       "    <tr style=\"text-align: right;\">\n",
       "      <th></th>\n",
       "      <th>Rating</th>\n",
       "      <th>Review Summary</th>\n",
       "      <th>Full Review</th>\n",
       "    </tr>\n",
       "  </thead>\n",
       "  <tbody>\n",
       "    <tr>\n",
       "      <th>0</th>\n",
       "      <td>5</td>\n",
       "      <td>Brilliant</td>\n",
       "      <td>The Best Phone for the Money\\n\\nThe iPhone 11 ...</td>\n",
       "    </tr>\n",
       "    <tr>\n",
       "      <th>1</th>\n",
       "      <td>1</td>\n",
       "      <td>Simply awesome</td>\n",
       "      <td>Really satisfied with the Product I received.....</td>\n",
       "    </tr>\n",
       "    <tr>\n",
       "      <th>2</th>\n",
       "      <td>5</td>\n",
       "      <td>Best in the market!</td>\n",
       "      <td>Great iPhone very snappy experience as apple k...</td>\n",
       "    </tr>\n",
       "    <tr>\n",
       "      <th>3</th>\n",
       "      <td>5</td>\n",
       "      <td>Perfect product!</td>\n",
       "      <td>Amazing phone with great cameras and better ba...</td>\n",
       "    </tr>\n",
       "    <tr>\n",
       "      <th>4</th>\n",
       "      <td>1</td>\n",
       "      <td>Fabulous!</td>\n",
       "      <td>This is my first iOS phone. I am very happy wi...</td>\n",
       "    </tr>\n",
       "    <tr>\n",
       "      <th>...</th>\n",
       "      <td>...</td>\n",
       "      <td>...</td>\n",
       "      <td>...</td>\n",
       "    </tr>\n",
       "    <tr>\n",
       "      <th>105</th>\n",
       "      <td>5</td>\n",
       "      <td>Worth every penny</td>\n",
       "      <td>Best budget Iphone till date ❤️ go for it guys...</td>\n",
       "    </tr>\n",
       "    <tr>\n",
       "      <th>106</th>\n",
       "      <td>5</td>\n",
       "      <td>Classy product</td>\n",
       "      <td>Totally in love with this ❤ the camera quality...</td>\n",
       "    </tr>\n",
       "    <tr>\n",
       "      <th>107</th>\n",
       "      <td>5</td>\n",
       "      <td>Worth every penny</td>\n",
       "      <td>It’s been almost a month since I have been usi...</td>\n",
       "    </tr>\n",
       "    <tr>\n",
       "      <th>108</th>\n",
       "      <td>5</td>\n",
       "      <td>Terrific</td>\n",
       "      <td>Really worth of money. i just love it. It is t...</td>\n",
       "    </tr>\n",
       "    <tr>\n",
       "      <th>109</th>\n",
       "      <td>5</td>\n",
       "      <td>Wonderful</td>\n",
       "      <td>This is my first ever I phone. Before this I w...</td>\n",
       "    </tr>\n",
       "  </tbody>\n",
       "</table>\n",
       "<p>110 rows × 3 columns</p>\n",
       "</div>"
      ],
      "text/plain": [
       "    Rating       Review Summary  \\\n",
       "0        5            Brilliant   \n",
       "1        1       Simply awesome   \n",
       "2        5  Best in the market!   \n",
       "3        5     Perfect product!   \n",
       "4        1            Fabulous!   \n",
       "..     ...                  ...   \n",
       "105      5    Worth every penny   \n",
       "106      5       Classy product   \n",
       "107      5    Worth every penny   \n",
       "108      5             Terrific   \n",
       "109      5            Wonderful   \n",
       "\n",
       "                                           Full Review  \n",
       "0    The Best Phone for the Money\\n\\nThe iPhone 11 ...  \n",
       "1    Really satisfied with the Product I received.....  \n",
       "2    Great iPhone very snappy experience as apple k...  \n",
       "3    Amazing phone with great cameras and better ba...  \n",
       "4    This is my first iOS phone. I am very happy wi...  \n",
       "..                                                 ...  \n",
       "105  Best budget Iphone till date ❤️ go for it guys...  \n",
       "106  Totally in love with this ❤ the camera quality...  \n",
       "107  It’s been almost a month since I have been usi...  \n",
       "108  Really worth of money. i just love it. It is t...  \n",
       "109  This is my first ever I phone. Before this I w...  \n",
       "\n",
       "[110 rows x 3 columns]"
      ]
     },
     "execution_count": 96,
     "metadata": {},
     "output_type": "execute_result"
    }
   ],
   "source": [
    "import pandas as pd\n",
    "iphone_11 = pd.DataFrame({'Rating':xyz,\n",
    "                         'Review Summary':Summary,\n",
    "                         'Full Review': Review})\n",
    "iphone_11"
   ]
  },
  {
   "cell_type": "code",
   "execution_count": null,
   "id": "08c336e9",
   "metadata": {},
   "outputs": [],
   "source": []
  },
  {
   "cell_type": "markdown",
   "id": "6fe831f5",
   "metadata": {},
   "source": [
    "# Q6. Scrape 100 data from flipkart"
   ]
  },
  {
   "cell_type": "code",
   "execution_count": 128,
   "id": "9f5ef0c6",
   "metadata": {},
   "outputs": [],
   "source": [
    "driver = webdriver.Chrome(r'C:\\Users\\Nitin Patel\\chromedriver_win32/chromedriver')\n",
    "driver.get('https://www.flipkart.com/')\n",
    "time.sleep(2)\n",
    "driver.maximize_window()"
   ]
  },
  {
   "cell_type": "code",
   "execution_count": 130,
   "id": "42ad7a69",
   "metadata": {},
   "outputs": [],
   "source": [
    "enter = driver.find_element_by_xpath('//input[@class=\"_3704LK\"]').send_keys('sneakers')\n",
    "search_btn = driver.find_element_by_xpath('//button[@class=\"L0Z3Pu\"]').click()"
   ]
  },
  {
   "cell_type": "code",
   "execution_count": 131,
   "id": "83ec6148",
   "metadata": {},
   "outputs": [
    {
     "data": {
      "text/plain": [
       "11"
      ]
     },
     "execution_count": 131,
     "metadata": {},
     "output_type": "execute_result"
    }
   ],
   "source": [
    "pages_url = []\n",
    "page_els = driver.find_elements_by_xpath('//nav[@class=\"yFHi8N\"]/a')\n",
    "for i in page_els:\n",
    "    pages_url.append(i.get_attribute('href'))\n",
    "    \n",
    "len(pages_url)"
   ]
  },
  {
   "cell_type": "code",
   "execution_count": 132,
   "id": "b8bb7be8",
   "metadata": {},
   "outputs": [
    {
     "data": {
      "text/plain": [
       "120"
      ]
     },
     "execution_count": 132,
     "metadata": {},
     "output_type": "execute_result"
    }
   ],
   "source": [
    "Brand = []\n",
    "for k in pages_url[0:3]:\n",
    "    driver.get(k)\n",
    "    company = driver.find_elements_by_xpath('//div[@class=\"_2WkVRV\"]')\n",
    "    for i in company:\n",
    "        Brand.append(i.text)\n",
    "len(Brand)"
   ]
  },
  {
   "cell_type": "code",
   "execution_count": null,
   "id": "2edf6db9",
   "metadata": {},
   "outputs": [],
   "source": []
  },
  {
   "cell_type": "code",
   "execution_count": 138,
   "id": "c9814e80",
   "metadata": {},
   "outputs": [
    {
     "data": {
      "text/plain": [
       "120"
      ]
     },
     "execution_count": 138,
     "metadata": {},
     "output_type": "execute_result"
    }
   ],
   "source": [
    "Description = []\n",
    "for k in pages_url[0:3]:\n",
    "    driver.get(k)\n",
    "    descr = driver.find_elements_by_xpath('//div[@class=\"_2B099V\"]/a[1]')\n",
    "    for i in descr:\n",
    "        Description.append(i.text)\n",
    "len(Description)"
   ]
  },
  {
   "cell_type": "code",
   "execution_count": null,
   "id": "7dfe63c9",
   "metadata": {},
   "outputs": [],
   "source": []
  },
  {
   "cell_type": "code",
   "execution_count": 139,
   "id": "c97d0a21",
   "metadata": {},
   "outputs": [
    {
     "data": {
      "text/plain": [
       "120"
      ]
     },
     "execution_count": 139,
     "metadata": {},
     "output_type": "execute_result"
    }
   ],
   "source": [
    "Price = []\n",
    "for k in pages_url[0:3]:\n",
    "    driver.get(k)\n",
    "    tag = driver.find_elements_by_xpath('//div[@class=\"_30jeq3\"]')\n",
    "    for i in tag:\n",
    "        Price.append(i.text)\n",
    "len(Price)"
   ]
  },
  {
   "cell_type": "code",
   "execution_count": null,
   "id": "c01745f1",
   "metadata": {},
   "outputs": [],
   "source": []
  },
  {
   "cell_type": "code",
   "execution_count": 140,
   "id": "c71cc4c0",
   "metadata": {},
   "outputs": [
    {
     "data": {
      "text/plain": [
       "120"
      ]
     },
     "execution_count": 140,
     "metadata": {},
     "output_type": "execute_result"
    }
   ],
   "source": [
    "Discount = []\n",
    "for k in pages_url[0:3]:\n",
    "    driver.get(k)\n",
    "    off = driver.find_elements_by_xpath('//div[@class=\"_3Ay6Sb\"]/span')\n",
    "    for i in off:\n",
    "        Discount.append(i.text)\n",
    "len(Discount)"
   ]
  },
  {
   "cell_type": "code",
   "execution_count": 143,
   "id": "0e3f5227",
   "metadata": {},
   "outputs": [
    {
     "data": {
      "text/html": [
       "<div>\n",
       "<style scoped>\n",
       "    .dataframe tbody tr th:only-of-type {\n",
       "        vertical-align: middle;\n",
       "    }\n",
       "\n",
       "    .dataframe tbody tr th {\n",
       "        vertical-align: top;\n",
       "    }\n",
       "\n",
       "    .dataframe thead th {\n",
       "        text-align: right;\n",
       "    }\n",
       "</style>\n",
       "<table border=\"1\" class=\"dataframe\">\n",
       "  <thead>\n",
       "    <tr style=\"text-align: right;\">\n",
       "      <th></th>\n",
       "      <th>Company</th>\n",
       "      <th>Description</th>\n",
       "      <th>Price</th>\n",
       "      <th>Discount Applied</th>\n",
       "    </tr>\n",
       "  </thead>\n",
       "  <tbody>\n",
       "    <tr>\n",
       "      <th>0</th>\n",
       "      <td>BRUTON</td>\n",
       "      <td>Sneakers For Men</td>\n",
       "      <td>₹599</td>\n",
       "      <td>80% off</td>\n",
       "    </tr>\n",
       "    <tr>\n",
       "      <th>1</th>\n",
       "      <td>BRUTON</td>\n",
       "      <td>Kwik FIT casual sneaker shoes and partywear sh...</td>\n",
       "      <td>₹347</td>\n",
       "      <td>82% off</td>\n",
       "    </tr>\n",
       "    <tr>\n",
       "      <th>2</th>\n",
       "      <td>Magnolia</td>\n",
       "      <td>Sneakers For Men</td>\n",
       "      <td>₹327</td>\n",
       "      <td>67% off</td>\n",
       "    </tr>\n",
       "    <tr>\n",
       "      <th>3</th>\n",
       "      <td>Chevit</td>\n",
       "      <td>Super Stylish &amp; Trendy Combo Pack of 02 Pairs ...</td>\n",
       "      <td>₹501</td>\n",
       "      <td>68% off</td>\n",
       "    </tr>\n",
       "    <tr>\n",
       "      <th>4</th>\n",
       "      <td>TR</td>\n",
       "      <td>Sneakers For Men</td>\n",
       "      <td>₹272</td>\n",
       "      <td>72% off</td>\n",
       "    </tr>\n",
       "    <tr>\n",
       "      <th>5</th>\n",
       "      <td>BRUTON</td>\n",
       "      <td>Modern Trendy Sneakers Shoes Sneakers For Men</td>\n",
       "      <td>₹209</td>\n",
       "      <td>83% off</td>\n",
       "    </tr>\n",
       "    <tr>\n",
       "      <th>6</th>\n",
       "      <td>Magnolia</td>\n",
       "      <td>Sneakers For Men</td>\n",
       "      <td>₹327</td>\n",
       "      <td>67% off</td>\n",
       "    </tr>\n",
       "    <tr>\n",
       "      <th>7</th>\n",
       "      <td>BRUTON</td>\n",
       "      <td>Sneakers For Men</td>\n",
       "      <td>₹476</td>\n",
       "      <td>46% off</td>\n",
       "    </tr>\n",
       "    <tr>\n",
       "      <th>8</th>\n",
       "      <td>KWIK FIT</td>\n",
       "      <td>Series 7 Sneakers For Men</td>\n",
       "      <td>₹394</td>\n",
       "      <td>60% off</td>\n",
       "    </tr>\n",
       "    <tr>\n",
       "      <th>9</th>\n",
       "      <td>Kraasa</td>\n",
       "      <td>Kwik FIT casual sneaker shoes and partywear sh...</td>\n",
       "      <td>₹349</td>\n",
       "      <td>82% off</td>\n",
       "    </tr>\n",
       "  </tbody>\n",
       "</table>\n",
       "</div>"
      ],
      "text/plain": [
       "    Company                                        Description Price  \\\n",
       "0    BRUTON                                   Sneakers For Men  ₹599   \n",
       "1    BRUTON  Kwik FIT casual sneaker shoes and partywear sh...  ₹347   \n",
       "2  Magnolia                                   Sneakers For Men  ₹327   \n",
       "3    Chevit  Super Stylish & Trendy Combo Pack of 02 Pairs ...  ₹501   \n",
       "4        TR                                   Sneakers For Men  ₹272   \n",
       "5    BRUTON      Modern Trendy Sneakers Shoes Sneakers For Men  ₹209   \n",
       "6  Magnolia                                   Sneakers For Men  ₹327   \n",
       "7    BRUTON                                   Sneakers For Men  ₹476   \n",
       "8  KWIK FIT                          Series 7 Sneakers For Men  ₹394   \n",
       "9    Kraasa  Kwik FIT casual sneaker shoes and partywear sh...  ₹349   \n",
       "\n",
       "  Discount Applied  \n",
       "0          80% off  \n",
       "1          82% off  \n",
       "2          67% off  \n",
       "3          68% off  \n",
       "4          72% off  \n",
       "5          83% off  \n",
       "6          67% off  \n",
       "7          46% off  \n",
       "8          60% off  \n",
       "9          82% off  "
      ]
     },
     "execution_count": 143,
     "metadata": {},
     "output_type": "execute_result"
    }
   ],
   "source": [
    "Sneakers = pd.DataFrame({'Company':Brand,\n",
    "                         'Description':Description,\n",
    "                         'Price':Price,\n",
    "                         'Discount Applied':Discount})\n",
    "Sneakers.head(10)"
   ]
  },
  {
   "cell_type": "code",
   "execution_count": null,
   "id": "4aacf86f",
   "metadata": {},
   "outputs": [],
   "source": []
  },
  {
   "cell_type": "markdown",
   "id": "60ce1806",
   "metadata": {},
   "source": [
    "# Q7. Scrap 100 data using filter from myntra.com"
   ]
  },
  {
   "cell_type": "code",
   "execution_count": 147,
   "id": "33e55f83",
   "metadata": {},
   "outputs": [],
   "source": [
    "driver = webdriver.Chrome(r'C:\\Users\\Nitin Patel\\chromedriver_win32/chromedriver')\n",
    "driver.get('https://www.myntra.com/shoes')\n",
    "time.sleep(2)\n",
    "driver.maximize_window()"
   ]
  },
  {
   "cell_type": "code",
   "execution_count": 148,
   "id": "b78ebba9",
   "metadata": {},
   "outputs": [],
   "source": [
    "filter_1 = driver.find_element_by_xpath('/html/body/div[2]/div/div[1]/main/div[3]/div[1]/section/div/div[5]/ul/li[2]/label/div')\n",
    "filter_1.click()\n",
    "time.sleep(1)\n",
    "\n",
    "filter_2 = driver.find_element_by_xpath('/html/body/div[2]/div/div[1]/main/div[3]/div[1]/section/div/div[6]/ul/li[1]/label/div')\n",
    "filter_2.click()\n",
    "time.sleep(1)"
   ]
  },
  {
   "cell_type": "code",
   "execution_count": 149,
   "id": "2f9cad9e",
   "metadata": {},
   "outputs": [
    {
     "data": {
      "text/plain": [
       "11"
      ]
     },
     "execution_count": 149,
     "metadata": {},
     "output_type": "execute_result"
    }
   ],
   "source": [
    "Pages = []\n",
    "url = driver.find_elements_by_xpath('//ul[@class=\"pagination-container\"]/li/a')\n",
    "for i in url:\n",
    "    Pages.append(i.get_attribute('href'))\n",
    "len(Pages)"
   ]
  },
  {
   "cell_type": "code",
   "execution_count": 151,
   "id": "c072b180",
   "metadata": {},
   "outputs": [
    {
     "data": {
      "text/plain": [
       "100"
      ]
     },
     "execution_count": 151,
     "metadata": {},
     "output_type": "execute_result"
    }
   ],
   "source": [
    "Brand = []\n",
    "for k in Pages[0:2]:\n",
    "    driver.get(k)\n",
    "    name = driver.find_elements_by_xpath('//h3[@class=\"product-brand\"]')\n",
    "    for i in name:\n",
    "        Brand.append(i.text)\n",
    "    \n",
    "len(Brand)"
   ]
  },
  {
   "cell_type": "code",
   "execution_count": 152,
   "id": "16fb6c90",
   "metadata": {},
   "outputs": [
    {
     "data": {
      "text/plain": [
       "100"
      ]
     },
     "execution_count": 152,
     "metadata": {},
     "output_type": "execute_result"
    }
   ],
   "source": [
    "Description = []\n",
    "for k in Pages[0:2]:\n",
    "    driver.get(k)\n",
    "    short = driver.find_elements_by_xpath('//h4[@class=\"product-product\"]')\n",
    "    for i in short:\n",
    "        Description.append(i.text)\n",
    "len(Description)"
   ]
  },
  {
   "cell_type": "code",
   "execution_count": 166,
   "id": "219f1e12",
   "metadata": {},
   "outputs": [
    {
     "data": {
      "text/plain": [
       "100"
      ]
     },
     "execution_count": 166,
     "metadata": {},
     "output_type": "execute_result"
    }
   ],
   "source": [
    "Price = []\n",
    "for k in Pages[0:2]:\n",
    "    driver.get(k)\n",
    "    mrp = driver.find_elements_by_xpath('//div[@class=\"product-price\"]/span[1]')\n",
    "    for i in mrp:\n",
    "        Price.append(i.text[0:9])\n",
    "len(Price)"
   ]
  },
  {
   "cell_type": "code",
   "execution_count": 167,
   "id": "5bf80c30",
   "metadata": {},
   "outputs": [
    {
     "data": {
      "text/html": [
       "<div>\n",
       "<style scoped>\n",
       "    .dataframe tbody tr th:only-of-type {\n",
       "        vertical-align: middle;\n",
       "    }\n",
       "\n",
       "    .dataframe tbody tr th {\n",
       "        vertical-align: top;\n",
       "    }\n",
       "\n",
       "    .dataframe thead th {\n",
       "        text-align: right;\n",
       "    }\n",
       "</style>\n",
       "<table border=\"1\" class=\"dataframe\">\n",
       "  <thead>\n",
       "    <tr style=\"text-align: right;\">\n",
       "      <th></th>\n",
       "      <th>Company</th>\n",
       "      <th>Description</th>\n",
       "      <th>MRP</th>\n",
       "    </tr>\n",
       "  </thead>\n",
       "  <tbody>\n",
       "    <tr>\n",
       "      <th>0</th>\n",
       "      <td>Nike</td>\n",
       "      <td>Men Winflo 7 Running Shoes</td>\n",
       "      <td>Rs. 7995</td>\n",
       "    </tr>\n",
       "    <tr>\n",
       "      <th>1</th>\n",
       "      <td>ALDO</td>\n",
       "      <td>Men Printed Sneakers</td>\n",
       "      <td>Rs. 9099R</td>\n",
       "    </tr>\n",
       "    <tr>\n",
       "      <th>2</th>\n",
       "      <td>ALDO</td>\n",
       "      <td>Men Leather Driving Shoes</td>\n",
       "      <td>Rs. 12999</td>\n",
       "    </tr>\n",
       "    <tr>\n",
       "      <th>3</th>\n",
       "      <td>Puma</td>\n",
       "      <td>Electrify Nitro Running Shoes</td>\n",
       "      <td>Rs. 9999</td>\n",
       "    </tr>\n",
       "    <tr>\n",
       "      <th>4</th>\n",
       "      <td>ALDO</td>\n",
       "      <td>Men Woven Design Sneakers</td>\n",
       "      <td>Rs. 13999</td>\n",
       "    </tr>\n",
       "    <tr>\n",
       "      <th>5</th>\n",
       "      <td>Puma</td>\n",
       "      <td>Eternity Nitro Running Shoes</td>\n",
       "      <td>Rs. 12999</td>\n",
       "    </tr>\n",
       "    <tr>\n",
       "      <th>6</th>\n",
       "      <td>Puma</td>\n",
       "      <td>Men Jamming 2.0 Running Shoes</td>\n",
       "      <td>Rs. 12999</td>\n",
       "    </tr>\n",
       "    <tr>\n",
       "      <th>7</th>\n",
       "      <td>Hush Puppies</td>\n",
       "      <td>Men Solid Leather Formal Slip-Ons</td>\n",
       "      <td>Rs. 7649R</td>\n",
       "    </tr>\n",
       "    <tr>\n",
       "      <th>8</th>\n",
       "      <td>Puma</td>\n",
       "      <td>Men Training or Gym Shoes</td>\n",
       "      <td>Rs. 7999</td>\n",
       "    </tr>\n",
       "    <tr>\n",
       "      <th>9</th>\n",
       "      <td>Puma</td>\n",
       "      <td>Women Eternity NITRO Shoes</td>\n",
       "      <td>Rs. 9099R</td>\n",
       "    </tr>\n",
       "  </tbody>\n",
       "</table>\n",
       "</div>"
      ],
      "text/plain": [
       "        Company                        Description        MRP\n",
       "0          Nike         Men Winflo 7 Running Shoes   Rs. 7995\n",
       "1          ALDO               Men Printed Sneakers  Rs. 9099R\n",
       "2          ALDO          Men Leather Driving Shoes  Rs. 12999\n",
       "3          Puma      Electrify Nitro Running Shoes   Rs. 9999\n",
       "4          ALDO          Men Woven Design Sneakers  Rs. 13999\n",
       "5          Puma       Eternity Nitro Running Shoes  Rs. 12999\n",
       "6          Puma      Men Jamming 2.0 Running Shoes  Rs. 12999\n",
       "7  Hush Puppies  Men Solid Leather Formal Slip-Ons  Rs. 7649R\n",
       "8          Puma          Men Training or Gym Shoes   Rs. 7999\n",
       "9          Puma         Women Eternity NITRO Shoes  Rs. 9099R"
      ]
     },
     "execution_count": 167,
     "metadata": {},
     "output_type": "execute_result"
    }
   ],
   "source": [
    "Black_shoes = pd.DataFrame({'Company':Brand,\n",
    "                            'Description':Description,\n",
    "                            'MRP':Price})\n",
    "Black_shoes.head(10)"
   ]
  },
  {
   "cell_type": "code",
   "execution_count": null,
   "id": "e983292a",
   "metadata": {},
   "outputs": [],
   "source": []
  },
  {
   "cell_type": "markdown",
   "id": "7fcacf50",
   "metadata": {},
   "source": [
    "# Q8. Scrape 10 Data from Amazon"
   ]
  },
  {
   "cell_type": "code",
   "execution_count": 97,
   "id": "dcc73407",
   "metadata": {},
   "outputs": [],
   "source": [
    "driver= webdriver.Chrome(r'C:\\Users\\Nitin Patel\\chromedriver_win32/chromedriver')\n",
    "driver.get('https://www.amazon.in/')\n",
    "time.sleep(2)\n",
    "driver.maximize_window()"
   ]
  },
  {
   "cell_type": "code",
   "execution_count": 98,
   "id": "53074320",
   "metadata": {},
   "outputs": [],
   "source": [
    "search = driver.find_element_by_id('twotabsearchtextbox')\n",
    "search.send_keys('Laptop')\n",
    "time.sleep(1)\n",
    "\n",
    "go = driver.find_element_by_xpath('//span[@id=\"nav-search-submit-text\"]/input')\n",
    "go.click()"
   ]
  },
  {
   "cell_type": "code",
   "execution_count": 101,
   "id": "8cc82129",
   "metadata": {},
   "outputs": [],
   "source": [
    "filter_1 = driver.find_element_by_xpath('/html/body/div[1]/div[2]/div[1]/div[2]/div/div[3]/span/div[1]/div/div/div[6]/ul[4]/li[11]/span')\n",
    "filter_1.click()\n",
    "time.sleep(2)"
   ]
  },
  {
   "cell_type": "code",
   "execution_count": 102,
   "id": "fb17adcf",
   "metadata": {},
   "outputs": [
    {
     "data": {
      "text/plain": [
       "11"
      ]
     },
     "execution_count": 102,
     "metadata": {},
     "output_type": "execute_result"
    }
   ],
   "source": [
    "Item = []\n",
    "Product = driver.find_elements_by_xpath('//h2[@class=\"a-size-mini a-spacing-none a-color-base s-line-clamp-2\"]/a/span')\n",
    "for i in Product[0:11]:\n",
    "    Item.append(i.text)\n",
    "len(Item)"
   ]
  },
  {
   "cell_type": "code",
   "execution_count": 198,
   "id": "ac0a2ad7",
   "metadata": {},
   "outputs": [
    {
     "data": {
      "text/plain": [
       "['', '', '', '', '', '', '', '', '', '', '']"
      ]
     },
     "execution_count": 198,
     "metadata": {},
     "output_type": "execute_result"
    }
   ],
   "source": [
    "Ratings = []\n",
    "star = driver.find_elements_by_class_name('a-icon-alt')\n",
    "for i in star[0:11]:\n",
    "    Ratings.append(i.text)\n",
    "Ratings"
   ]
  },
  {
   "cell_type": "code",
   "execution_count": 107,
   "id": "7fe6623a",
   "metadata": {},
   "outputs": [
    {
     "data": {
      "text/plain": [
       "[]"
      ]
     },
     "execution_count": 107,
     "metadata": {},
     "output_type": "execute_result"
    }
   ],
   "source": [
    "give = []\n",
    "fjk = driver.find_elements_by_class_name('a-icon a-icon-star-small a-star-small-4-5 aok-align-bottom')\n",
    "for i in fjk:\n",
    "    give.append(i.text)\n",
    "give"
   ]
  },
  {
   "cell_type": "code",
   "execution_count": 194,
   "id": "0fb78214",
   "metadata": {},
   "outputs": [
    {
     "data": {
      "text/plain": [
       "['₹85,990',\n",
       " '₹96,999',\n",
       " '₹77,499',\n",
       " '₹57,490',\n",
       " '₹89,990',\n",
       " '₹89,990',\n",
       " '₹88,990',\n",
       " '₹87,990',\n",
       " '₹96,999',\n",
       " '₹92,990',\n",
       " '₹83,990']"
      ]
     },
     "execution_count": 194,
     "metadata": {},
     "output_type": "execute_result"
    }
   ],
   "source": [
    "Price = []\n",
    "mrp = driver.find_elements_by_xpath('//div[@class=\"a-row a-size-base a-color-base\"]/a/span[1]')\n",
    "for i in mrp[0:11]:\n",
    "    Price.append(i.text)\n",
    "Price"
   ]
  },
  {
   "cell_type": "code",
   "execution_count": 184,
   "id": "6d6c1d4d",
   "metadata": {},
   "outputs": [
    {
     "data": {
      "text/html": [
       "<div>\n",
       "<style scoped>\n",
       "    .dataframe tbody tr th:only-of-type {\n",
       "        vertical-align: middle;\n",
       "    }\n",
       "\n",
       "    .dataframe tbody tr th {\n",
       "        vertical-align: top;\n",
       "    }\n",
       "\n",
       "    .dataframe thead th {\n",
       "        text-align: right;\n",
       "    }\n",
       "</style>\n",
       "<table border=\"1\" class=\"dataframe\">\n",
       "  <thead>\n",
       "    <tr style=\"text-align: right;\">\n",
       "      <th></th>\n",
       "      <th>Product Info</th>\n",
       "      <th>Average Rating</th>\n",
       "      <th>Price</th>\n",
       "    </tr>\n",
       "  </thead>\n",
       "  <tbody>\n",
       "    <tr>\n",
       "      <th>0</th>\n",
       "      <td>LG Gram 16 Ultra-Light Intel Evo 11th Gen Core...</td>\n",
       "      <td></td>\n",
       "      <td>₹85,990</td>\n",
       "    </tr>\n",
       "    <tr>\n",
       "      <th>1</th>\n",
       "      <td>LG Gram Intel Evo 11th Gen Core i7 17 inches U...</td>\n",
       "      <td></td>\n",
       "      <td>₹96,999</td>\n",
       "    </tr>\n",
       "    <tr>\n",
       "      <th>2</th>\n",
       "      <td>Mi Notebook Ultra 3.2K Resolution Display Inte...</td>\n",
       "      <td></td>\n",
       "      <td>₹77,499</td>\n",
       "    </tr>\n",
       "    <tr>\n",
       "      <th>3</th>\n",
       "      <td>ASUS VivoBook 14 (2021), 14-inch (35.56 cms) F...</td>\n",
       "      <td></td>\n",
       "      <td>₹57,490</td>\n",
       "    </tr>\n",
       "    <tr>\n",
       "      <th>4</th>\n",
       "      <td>Lenovo ThinkBook 13s Intel 11th Gen Core i7 13...</td>\n",
       "      <td></td>\n",
       "      <td>₹89,990</td>\n",
       "    </tr>\n",
       "    <tr>\n",
       "      <th>5</th>\n",
       "      <td>ASUS TUF Gaming F15 (2021), 15.6\" (39.62 cms) ...</td>\n",
       "      <td></td>\n",
       "      <td>₹89,990</td>\n",
       "    </tr>\n",
       "    <tr>\n",
       "      <th>6</th>\n",
       "      <td>LG Gram 14 Intel Evo 11th Gen Core i7 14 inche...</td>\n",
       "      <td></td>\n",
       "      <td>₹88,990</td>\n",
       "    </tr>\n",
       "    <tr>\n",
       "      <th>7</th>\n",
       "      <td>Lenovo ThinkBook Yoga 14s Intel Core i7 11th G...</td>\n",
       "      <td></td>\n",
       "      <td>₹87,990</td>\n",
       "    </tr>\n",
       "    <tr>\n",
       "      <th>8</th>\n",
       "      <td>LG Gram Intel Evo 11th Gen Core i7 17 inches U...</td>\n",
       "      <td></td>\n",
       "      <td>₹96,999</td>\n",
       "    </tr>\n",
       "    <tr>\n",
       "      <th>9</th>\n",
       "      <td>ASUS ZenBook 13 OLED (2021) Intel Core i7-1165...</td>\n",
       "      <td></td>\n",
       "      <td>₹92,990</td>\n",
       "    </tr>\n",
       "    <tr>\n",
       "      <th>10</th>\n",
       "      <td>Fujitsu UH-X 11th Gen Intel Core i7 13.3” FHD ...</td>\n",
       "      <td></td>\n",
       "      <td>₹83,990</td>\n",
       "    </tr>\n",
       "  </tbody>\n",
       "</table>\n",
       "</div>"
      ],
      "text/plain": [
       "                                         Product Info Average Rating    Price\n",
       "0   LG Gram 16 Ultra-Light Intel Evo 11th Gen Core...                 ₹85,990\n",
       "1   LG Gram Intel Evo 11th Gen Core i7 17 inches U...                 ₹96,999\n",
       "2   Mi Notebook Ultra 3.2K Resolution Display Inte...                 ₹77,499\n",
       "3   ASUS VivoBook 14 (2021), 14-inch (35.56 cms) F...                 ₹57,490\n",
       "4   Lenovo ThinkBook 13s Intel 11th Gen Core i7 13...                 ₹89,990\n",
       "5   ASUS TUF Gaming F15 (2021), 15.6\" (39.62 cms) ...                 ₹89,990\n",
       "6   LG Gram 14 Intel Evo 11th Gen Core i7 14 inche...                 ₹88,990\n",
       "7   Lenovo ThinkBook Yoga 14s Intel Core i7 11th G...                 ₹87,990\n",
       "8   LG Gram Intel Evo 11th Gen Core i7 17 inches U...                 ₹96,999\n",
       "9   ASUS ZenBook 13 OLED (2021) Intel Core i7-1165...                 ₹92,990\n",
       "10  Fujitsu UH-X 11th Gen Intel Core i7 13.3” FHD ...                 ₹83,990"
      ]
     },
     "execution_count": 184,
     "metadata": {},
     "output_type": "execute_result"
    }
   ],
   "source": [
    "icore_7 = pd.DataFrame({'Product Info': Item,\n",
    "                        'Average Rating': Ratings,\n",
    "                        'Price': Price})\n",
    "icore_7"
   ]
  },
  {
   "cell_type": "code",
   "execution_count": null,
   "id": "2197f7ef",
   "metadata": {},
   "outputs": [],
   "source": []
  },
  {
   "cell_type": "code",
   "execution_count": 180,
   "id": "774aae9c",
   "metadata": {},
   "outputs": [],
   "source": [
    "clear_filter_1 = driver.find_element_by_xpath('/html/body/div[1]/div[2]/div[1]/div[2]/div/div[3]/span/div[1]/div/div/div[6]/ul[4]/li[1]/span/a/span[2]')\n",
    "clear_filter_1.click()\n",
    "time.sleep(2)\n",
    "\n",
    "filter_2 = driver.find_element_by_xpath('/html/body/div[1]/div[2]/div[1]/div[2]/div/div[3]/span/div[1]/div/div/div[6]/ul[4]/li[14]/span/a/div/label/i')\n",
    "filter_2.click()"
   ]
  },
  {
   "cell_type": "code",
   "execution_count": 183,
   "id": "daa344cb",
   "metadata": {},
   "outputs": [
    {
     "data": {
      "text/plain": [
       "11"
      ]
     },
     "execution_count": 183,
     "metadata": {},
     "output_type": "execute_result"
    }
   ],
   "source": [
    "Item_2 = []\n",
    "name = driver.find_elements_by_xpath('//h2[@class=\"a-size-mini a-spacing-none a-color-base s-line-clamp-2\"]/a/span')\n",
    "for i in name:\n",
    "    Item_2.append(i.text)\n",
    "len(Item_2)"
   ]
  },
  {
   "cell_type": "code",
   "execution_count": 182,
   "id": "eb9f5eff",
   "metadata": {},
   "outputs": [
    {
     "data": {
      "text/plain": [
       "11"
      ]
     },
     "execution_count": 182,
     "metadata": {},
     "output_type": "execute_result"
    }
   ],
   "source": [
    "Price_2 = []\n",
    "stars = driver.find_elements_by_xpath('//div[@class=\"a-row a-size-base a-color-base\"]/a/span[1]')\n",
    "for i in stars:\n",
    "    Price_2.append(i.text)\n",
    "len(Price_2)"
   ]
  },
  {
   "cell_type": "code",
   "execution_count": 200,
   "id": "2ebc0d9b",
   "metadata": {},
   "outputs": [
    {
     "data": {
      "text/html": [
       "<div>\n",
       "<style scoped>\n",
       "    .dataframe tbody tr th:only-of-type {\n",
       "        vertical-align: middle;\n",
       "    }\n",
       "\n",
       "    .dataframe tbody tr th {\n",
       "        vertical-align: top;\n",
       "    }\n",
       "\n",
       "    .dataframe thead th {\n",
       "        text-align: right;\n",
       "    }\n",
       "</style>\n",
       "<table border=\"1\" class=\"dataframe\">\n",
       "  <thead>\n",
       "    <tr style=\"text-align: right;\">\n",
       "      <th></th>\n",
       "      <th>Product_Info</th>\n",
       "      <th>Price</th>\n",
       "    </tr>\n",
       "  </thead>\n",
       "  <tbody>\n",
       "    <tr>\n",
       "      <th>0</th>\n",
       "      <td>ASUS TUF Gaming F15 (2021), 15.6-inch (39.62 c...</td>\n",
       "      <td>₹1,48,990</td>\n",
       "    </tr>\n",
       "    <tr>\n",
       "      <th>1</th>\n",
       "      <td>ASUS TUF Gaming F15 (2021), 15.6-inch (39.62 c...</td>\n",
       "      <td>₹1,43,990</td>\n",
       "    </tr>\n",
       "    <tr>\n",
       "      <th>2</th>\n",
       "      <td>ASUS TUF Gaming F15 (2021), 15.6\" (39.62 cms) ...</td>\n",
       "      <td>₹1,54,879</td>\n",
       "    </tr>\n",
       "    <tr>\n",
       "      <th>3</th>\n",
       "      <td>HP ZBOOK Power G8/ Intel core i9-11900H 8 Core...</td>\n",
       "      <td>₹2,32,000</td>\n",
       "    </tr>\n",
       "    <tr>\n",
       "      <th>4</th>\n",
       "      <td>(Renewed) HP Omen 15-dh0139TX Gaming Laptop (9...</td>\n",
       "      <td>₹1,38,000</td>\n",
       "    </tr>\n",
       "    <tr>\n",
       "      <th>5</th>\n",
       "      <td>HP ZBook Power G8/ Intel Core i9-11950H 2.5GHz...</td>\n",
       "      <td>₹2,93,000</td>\n",
       "    </tr>\n",
       "    <tr>\n",
       "      <th>6</th>\n",
       "      <td>ASUS ROG Strix Scar 17 (2022), 17.3-inch (43.9...</td>\n",
       "      <td>₹2,62,860</td>\n",
       "    </tr>\n",
       "    <tr>\n",
       "      <th>7</th>\n",
       "      <td>ASUS ROG Strix SCAR 15 (2022), 15.6-inch (39.6...</td>\n",
       "      <td>₹2,99,990</td>\n",
       "    </tr>\n",
       "    <tr>\n",
       "      <th>8</th>\n",
       "      <td>ASUS ROG Strix Scar 15 (2022), 15.6-inch (39.6...</td>\n",
       "      <td>₹2,64,990</td>\n",
       "    </tr>\n",
       "    <tr>\n",
       "      <th>9</th>\n",
       "      <td>(Renewed) Dell G7 7500 15.6inch FHD 300 Hz Dis...</td>\n",
       "      <td>₹1,72,000</td>\n",
       "    </tr>\n",
       "    <tr>\n",
       "      <th>10</th>\n",
       "      <td>Dell Precision 5550 || i9 -10885H || 16GB || 1...</td>\n",
       "      <td>₹2,25,000</td>\n",
       "    </tr>\n",
       "  </tbody>\n",
       "</table>\n",
       "</div>"
      ],
      "text/plain": [
       "                                         Product_Info      Price\n",
       "0   ASUS TUF Gaming F15 (2021), 15.6-inch (39.62 c...  ₹1,48,990\n",
       "1   ASUS TUF Gaming F15 (2021), 15.6-inch (39.62 c...  ₹1,43,990\n",
       "2   ASUS TUF Gaming F15 (2021), 15.6\" (39.62 cms) ...  ₹1,54,879\n",
       "3   HP ZBOOK Power G8/ Intel core i9-11900H 8 Core...  ₹2,32,000\n",
       "4   (Renewed) HP Omen 15-dh0139TX Gaming Laptop (9...  ₹1,38,000\n",
       "5   HP ZBook Power G8/ Intel Core i9-11950H 2.5GHz...  ₹2,93,000\n",
       "6   ASUS ROG Strix Scar 17 (2022), 17.3-inch (43.9...  ₹2,62,860\n",
       "7   ASUS ROG Strix SCAR 15 (2022), 15.6-inch (39.6...  ₹2,99,990\n",
       "8   ASUS ROG Strix Scar 15 (2022), 15.6-inch (39.6...  ₹2,64,990\n",
       "9   (Renewed) Dell G7 7500 15.6inch FHD 300 Hz Dis...  ₹1,72,000\n",
       "10  Dell Precision 5550 || i9 -10885H || 16GB || 1...  ₹2,25,000"
      ]
     },
     "execution_count": 200,
     "metadata": {},
     "output_type": "execute_result"
    }
   ],
   "source": [
    "icore_9 = pd.DataFrame({'Product_Info': Item_2,\n",
    "                       'Price': Price_2})\n",
    "icore_9"
   ]
  },
  {
   "cell_type": "code",
   "execution_count": null,
   "id": "e29125e2",
   "metadata": {},
   "outputs": [],
   "source": []
  },
  {
   "cell_type": "markdown",
   "id": "efdb71f1",
   "metadata": {},
   "source": [
    "# Q9. Find first 10 data from ambitionbox.com"
   ]
  },
  {
   "cell_type": "code",
   "execution_count": 201,
   "id": "387adea4",
   "metadata": {},
   "outputs": [],
   "source": [
    "driver = webdriver.Chrome(r'C:\\Users\\Nitin Patel\\chromedriver_win32/chromedriver')\n",
    "driver.get('https://www.ambitionbox.com/')\n",
    "time.sleep(2)\n",
    "driver.maximize_window()"
   ]
  },
  {
   "cell_type": "code",
   "execution_count": 214,
   "id": "ba62fe62",
   "metadata": {},
   "outputs": [],
   "source": [
    "#Entering the designation in searchbox\n",
    "search = driver.find_element_by_xpath('//input[@class=\"input tt-input\"]')\n",
    "search.send_keys('Data Scientist')\n",
    "\n",
    "#Clicking on the Search button\n",
    "find = driver.find_element_by_xpath('//button[@class=\"ab_btn search-btn round\"]')\n",
    "find.click()\n",
    "time.sleep(2)\n",
    "\n",
    "#Select filter 'Location'\n",
    "filter_locate = driver.find_element_by_xpath('/html/body/div/div/div/div[2]/div[2]/div[1]/div/div/div/div[2]/div[1]/i')\n",
    "filter_locate.click()\n",
    "time.sleep(1)\n",
    "\n",
    "#Select 'Noida' from the 'Location'\n",
    "select_filter = driver.find_element_by_xpath('/html/body/div/div/div/div[2]/div[2]/div[1]/div/div/div/div[2]/div[2]/div/div[3]/div[1]/div[5]/div/label')\n",
    "select_filter.click()\n",
    "    "
   ]
  },
  {
   "cell_type": "code",
   "execution_count": 215,
   "id": "6fc60a9f",
   "metadata": {},
   "outputs": [
    {
     "data": {
      "text/plain": [
       "10"
      ]
     },
     "execution_count": 215,
     "metadata": {},
     "output_type": "execute_result"
    }
   ],
   "source": [
    "Company = []\n",
    "cmp_tag = driver.find_elements_by_xpath('//p[@class=\"company body-medium\"]')\n",
    "for i in cmp_tag:\n",
    "    Company.append(i.text)\n",
    "len(Company)"
   ]
  },
  {
   "cell_type": "code",
   "execution_count": 219,
   "id": "09d3fa63",
   "metadata": {},
   "outputs": [
    {
     "data": {
      "text/plain": [
       "['4.2', '3.9', '4.1', '4.2', '4.0', '3.8', '3.8', '3.7', '3.7', '3.9']"
      ]
     },
     "execution_count": 219,
     "metadata": {},
     "output_type": "execute_result"
    }
   ],
   "source": [
    "Ratings = []\n",
    "rate_tag = driver.find_elements_by_xpath('//span[@class=\"body-small\"]')\n",
    "for i in rate_tag:\n",
    "    Ratings.append(i.text)\n",
    "Ratings"
   ]
  },
  {
   "cell_type": "code",
   "execution_count": 221,
   "id": "9786fa54",
   "metadata": {},
   "outputs": [
    {
     "data": {
      "text/plain": [
       "10"
      ]
     },
     "execution_count": 221,
     "metadata": {},
     "output_type": "execute_result"
    }
   ],
   "source": [
    "Job_Posted = []\n",
    "post_tag = driver.find_elements_by_xpath('//div[@class=\"other-info\"]/span[1]')\n",
    "for i in post_tag:\n",
    "    Job_Posted.append(i.text)\n",
    "len(Job_Posted)"
   ]
  },
  {
   "cell_type": "code",
   "execution_count": 222,
   "id": "1972998b",
   "metadata": {},
   "outputs": [
    {
     "data": {
      "text/html": [
       "<div>\n",
       "<style scoped>\n",
       "    .dataframe tbody tr th:only-of-type {\n",
       "        vertical-align: middle;\n",
       "    }\n",
       "\n",
       "    .dataframe tbody tr th {\n",
       "        vertical-align: top;\n",
       "    }\n",
       "\n",
       "    .dataframe thead th {\n",
       "        text-align: right;\n",
       "    }\n",
       "</style>\n",
       "<table border=\"1\" class=\"dataframe\">\n",
       "  <thead>\n",
       "    <tr style=\"text-align: right;\">\n",
       "      <th></th>\n",
       "      <th>Company</th>\n",
       "      <th>Ratings</th>\n",
       "      <th>Job Posted</th>\n",
       "    </tr>\n",
       "  </thead>\n",
       "  <tbody>\n",
       "    <tr>\n",
       "      <th>0</th>\n",
       "      <td>Amazon Development Centre (India) Pvt. Ltd.</td>\n",
       "      <td>4.2</td>\n",
       "      <td>7d ago</td>\n",
       "    </tr>\n",
       "    <tr>\n",
       "      <th>1</th>\n",
       "      <td>NTT DATA GLOBAL DELIVERY SERVICES PRIVATE LIMITED</td>\n",
       "      <td>3.9</td>\n",
       "      <td>8d ago</td>\n",
       "    </tr>\n",
       "    <tr>\n",
       "      <th>2</th>\n",
       "      <td>Concentrix Services India Private Limited.</td>\n",
       "      <td>4.1</td>\n",
       "      <td>18d ago</td>\n",
       "    </tr>\n",
       "    <tr>\n",
       "      <th>3</th>\n",
       "      <td>Franklin Templeton</td>\n",
       "      <td>4.2</td>\n",
       "      <td>3d ago</td>\n",
       "    </tr>\n",
       "    <tr>\n",
       "      <th>4</th>\n",
       "      <td>Genpact</td>\n",
       "      <td>4.0</td>\n",
       "      <td>14d ago</td>\n",
       "    </tr>\n",
       "    <tr>\n",
       "      <th>5</th>\n",
       "      <td>Sutherland Global Services Inc</td>\n",
       "      <td>3.8</td>\n",
       "      <td>3d ago</td>\n",
       "    </tr>\n",
       "    <tr>\n",
       "      <th>6</th>\n",
       "      <td>HCL Technologies Ltd</td>\n",
       "      <td>3.8</td>\n",
       "      <td>17d ago</td>\n",
       "    </tr>\n",
       "    <tr>\n",
       "      <th>7</th>\n",
       "      <td>Cyient Limited</td>\n",
       "      <td>3.7</td>\n",
       "      <td>22hr ago</td>\n",
       "    </tr>\n",
       "    <tr>\n",
       "      <th>8</th>\n",
       "      <td>Cyient Limited</td>\n",
       "      <td>3.7</td>\n",
       "      <td>22hr ago</td>\n",
       "    </tr>\n",
       "    <tr>\n",
       "      <th>9</th>\n",
       "      <td>Wipro Limited</td>\n",
       "      <td>3.9</td>\n",
       "      <td>1mon ago</td>\n",
       "    </tr>\n",
       "  </tbody>\n",
       "</table>\n",
       "</div>"
      ],
      "text/plain": [
       "                                             Company Ratings Job Posted\n",
       "0        Amazon Development Centre (India) Pvt. Ltd.     4.2     7d ago\n",
       "1  NTT DATA GLOBAL DELIVERY SERVICES PRIVATE LIMITED     3.9     8d ago\n",
       "2         Concentrix Services India Private Limited.     4.1    18d ago\n",
       "3                                 Franklin Templeton     4.2     3d ago\n",
       "4                                            Genpact     4.0    14d ago\n",
       "5                     Sutherland Global Services Inc     3.8     3d ago\n",
       "6                               HCL Technologies Ltd     3.8    17d ago\n",
       "7                                     Cyient Limited     3.7   22hr ago\n",
       "8                                     Cyient Limited     3.7   22hr ago\n",
       "9                                      Wipro Limited     3.9   1mon ago"
      ]
     },
     "execution_count": 222,
     "metadata": {},
     "output_type": "execute_result"
    }
   ],
   "source": [
    "Data_Scientist = pd.DataFrame({'Company': Company,\n",
    "                               'Ratings': Ratings,\n",
    "                               'Job Posted': Job_Posted})\n",
    "Data_Scientist"
   ]
  },
  {
   "cell_type": "code",
   "execution_count": null,
   "id": "44f850eb",
   "metadata": {},
   "outputs": [],
   "source": []
  },
  {
   "cell_type": "markdown",
   "id": "0b341508",
   "metadata": {},
   "source": [
    "# Q10. Scrape 10 Data from ambitionbox.com "
   ]
  },
  {
   "cell_type": "code",
   "execution_count": 2,
   "id": "bf965c48",
   "metadata": {},
   "outputs": [],
   "source": [
    "driver = webdriver.Chrome(r'C:\\Users\\Nitin Patel\\chromedriver_win32/chromedriver')\n",
    "driver.get('https://www.ambitionbox.com/')\n",
    "time.sleep(2)\n",
    "driver.maximize_window()"
   ]
  },
  {
   "cell_type": "code",
   "execution_count": 3,
   "id": "6edb744a",
   "metadata": {},
   "outputs": [],
   "source": [
    "#clicking on Salaries Comparison box\n",
    "main_box = driver.find_element_by_xpath('//*[@id=\"headerWrapper\"]/nav/nav/a[4]')\n",
    "main_box.click()"
   ]
  },
  {
   "cell_type": "code",
   "execution_count": 4,
   "id": "9529f3de",
   "metadata": {},
   "outputs": [],
   "source": [
    "from selenium.webdriver.support.ui import Select\n",
    "from selenium.webdriver.common.by import By"
   ]
  },
  {
   "cell_type": "code",
   "execution_count": 5,
   "id": "4457f2e0",
   "metadata": {},
   "outputs": [],
   "source": [
    "#searching Data Scientist in job profiles\n",
    "search = driver.find_element(By.ID,'jobProfileSearchbox')\n",
    "search.send_keys('Data')\n",
    "time.sleep(1)\n"
   ]
  },
  {
   "cell_type": "code",
   "execution_count": 6,
   "id": "e400bbcd",
   "metadata": {},
   "outputs": [
    {
     "data": {
      "text/plain": [
       "['Ab Inbev',\n",
       " 'ZS',\n",
       " 'Optum',\n",
       " 'Fractal Analytics',\n",
       " 'Tiger Analytics',\n",
       " 'UnitedHealth',\n",
       " 'Verizon',\n",
       " 'Ganit Business Solutions',\n",
       " 'Ericsson',\n",
       " 'Deloitte']"
      ]
     },
     "execution_count": 6,
     "metadata": {},
     "output_type": "execute_result"
    }
   ],
   "source": [
    "company = []\n",
    "cmp_tag = driver.find_elements_by_xpath('//div[@class=\"company-info\"]//a')\n",
    "for i in cmp_tag:\n",
    "    company.append(i.text)\n",
    "company"
   ]
  },
  {
   "cell_type": "code",
   "execution_count": 7,
   "id": "aa53c51f",
   "metadata": {},
   "outputs": [
    {
     "data": {
      "text/plain": [
       "['based on 28 salaries',\n",
       " 'based on 15 salaries',\n",
       " 'based on 25 salaries',\n",
       " 'based on 77 salaries',\n",
       " 'based on 33 salaries',\n",
       " 'based on 52 salaries',\n",
       " 'based on 14 salaries',\n",
       " 'based on 13 salaries',\n",
       " 'based on 43 salaries',\n",
       " 'based on 57 salaries']"
      ]
     },
     "execution_count": 7,
     "metadata": {},
     "output_type": "execute_result"
    }
   ],
   "source": [
    "salary_record = []\n",
    "salary_tag = driver.find_elements_by_xpath('//div[@class=\"result-col\"]//div[@class=\"company-info\"]//div[1]//span[1]')\n",
    "for i in salary_tag:\n",
    "    salary_record.append(i.text)\n",
    "salary_record"
   ]
  },
  {
   "cell_type": "code",
   "execution_count": 29,
   "id": "13204cd9",
   "metadata": {},
   "outputs": [
    {
     "data": {
      "text/plain": [
       "['3-4 yrs exp',\n",
       " '2 yrs exp',\n",
       " '3-4 yrs exp',\n",
       " '2-4 yrs exp',\n",
       " '3-4 yrs exp',\n",
       " '2-4 yrs exp',\n",
       " '4 yrs exp',\n",
       " '4 yrs exp',\n",
       " '3-4 yrs exp',\n",
       " '2-4 yrs exp']"
      ]
     },
     "execution_count": 29,
     "metadata": {},
     "output_type": "execute_result"
    }
   ],
   "source": [
    "experience_req = []\n",
    "work_duration = driver.find_elements_by_xpath('//div[@class=\"salaries sbold-list-header\"]')\n",
    "for i in work_duration:\n",
    "    experience_req.append(i.text[19:])\n",
    "experience_req"
   ]
  },
  {
   "cell_type": "code",
   "execution_count": 31,
   "id": "fc51998d",
   "metadata": {},
   "outputs": [
    {
     "data": {
      "text/plain": [
       "['₹ 26.6L',\n",
       " '₹ 23.3L',\n",
       " '₹ 21.2L',\n",
       " '₹ 21.1L',\n",
       " '₹ 21.1L',\n",
       " '₹ 20.1L',\n",
       " '₹ 19.6L',\n",
       " '₹ 19.4L',\n",
       " '₹ 19.1L',\n",
       " '₹ 18.7L']"
      ]
     },
     "execution_count": 31,
     "metadata": {},
     "output_type": "execute_result"
    }
   ],
   "source": [
    "average_salary = []\n",
    "avg_tag = driver.find_elements_by_xpath('//p[@class=\"averageCtc\"]')\n",
    "for i in avg_tag:\n",
    "    average_salary.append(i.text)\n",
    "average_salary"
   ]
  },
  {
   "cell_type": "code",
   "execution_count": 32,
   "id": "a9dc9789",
   "metadata": {},
   "outputs": [
    {
     "data": {
      "text/plain": [
       "['₹ 10.4L',\n",
       " '₹ 13.0L',\n",
       " '₹ 12.0L',\n",
       " '₹ 12.5L',\n",
       " '₹ 7.5L',\n",
       " '₹ 12.0L',\n",
       " '₹ 12.0L',\n",
       " '₹ 8.0L',\n",
       " '₹ 10.1L',\n",
       " '₹ 12.0L']"
      ]
     },
     "execution_count": 32,
     "metadata": {},
     "output_type": "execute_result"
    }
   ],
   "source": [
    "minimum_salary = []\n",
    "min_tag = driver.find_elements_by_xpath('//div[@class=\"salary-values\"]//div[1]')\n",
    "for i in min_tag:\n",
    "    minimum_salary.append(i.text)\n",
    "minimum_salary"
   ]
  },
  {
   "cell_type": "code",
   "execution_count": 33,
   "id": "baeeacc3",
   "metadata": {},
   "outputs": [
    {
     "data": {
      "text/plain": [
       "['₹ 40.0L',\n",
       " '₹ 45.0L',\n",
       " '₹ 30.0L',\n",
       " '₹ 32.0L',\n",
       " '₹ 31.0L',\n",
       " '₹ 30.0L',\n",
       " '₹ 26.0L',\n",
       " '₹ 43.0L',\n",
       " '₹ 32.5L',\n",
       " '₹ 30.0L']"
      ]
     },
     "execution_count": 33,
     "metadata": {},
     "output_type": "execute_result"
    }
   ],
   "source": [
    "max_salary = []\n",
    "max_tag = driver.find_elements_by_xpath('//div[@class=\"salary-values\"]//div[2]')\n",
    "for i in max_tag:\n",
    "    max_salary.append(i.text)\n",
    "max_salary"
   ]
  },
  {
   "cell_type": "code",
   "execution_count": 35,
   "id": "beb92e81",
   "metadata": {},
   "outputs": [
    {
     "data": {
      "text/html": [
       "<div>\n",
       "<style scoped>\n",
       "    .dataframe tbody tr th:only-of-type {\n",
       "        vertical-align: middle;\n",
       "    }\n",
       "\n",
       "    .dataframe tbody tr th {\n",
       "        vertical-align: top;\n",
       "    }\n",
       "\n",
       "    .dataframe thead th {\n",
       "        text-align: right;\n",
       "    }\n",
       "</style>\n",
       "<table border=\"1\" class=\"dataframe\">\n",
       "  <thead>\n",
       "    <tr style=\"text-align: right;\">\n",
       "      <th></th>\n",
       "      <th>Company</th>\n",
       "      <th>Experience Required</th>\n",
       "      <th>Average Salary</th>\n",
       "      <th>Max Salary</th>\n",
       "      <th>Min Salary</th>\n",
       "      <th>Salary Record</th>\n",
       "    </tr>\n",
       "  </thead>\n",
       "  <tbody>\n",
       "    <tr>\n",
       "      <th>0</th>\n",
       "      <td>Ab Inbev</td>\n",
       "      <td>3-4 yrs exp</td>\n",
       "      <td>₹ 26.6L</td>\n",
       "      <td>₹ 40.0L</td>\n",
       "      <td>₹ 10.4L</td>\n",
       "      <td>based on 28 salaries</td>\n",
       "    </tr>\n",
       "    <tr>\n",
       "      <th>1</th>\n",
       "      <td>ZS</td>\n",
       "      <td>2 yrs exp</td>\n",
       "      <td>₹ 23.3L</td>\n",
       "      <td>₹ 45.0L</td>\n",
       "      <td>₹ 13.0L</td>\n",
       "      <td>based on 15 salaries</td>\n",
       "    </tr>\n",
       "    <tr>\n",
       "      <th>2</th>\n",
       "      <td>Optum</td>\n",
       "      <td>3-4 yrs exp</td>\n",
       "      <td>₹ 21.2L</td>\n",
       "      <td>₹ 30.0L</td>\n",
       "      <td>₹ 12.0L</td>\n",
       "      <td>based on 25 salaries</td>\n",
       "    </tr>\n",
       "    <tr>\n",
       "      <th>3</th>\n",
       "      <td>Fractal Analytics</td>\n",
       "      <td>2-4 yrs exp</td>\n",
       "      <td>₹ 21.1L</td>\n",
       "      <td>₹ 32.0L</td>\n",
       "      <td>₹ 12.5L</td>\n",
       "      <td>based on 77 salaries</td>\n",
       "    </tr>\n",
       "    <tr>\n",
       "      <th>4</th>\n",
       "      <td>Tiger Analytics</td>\n",
       "      <td>3-4 yrs exp</td>\n",
       "      <td>₹ 21.1L</td>\n",
       "      <td>₹ 31.0L</td>\n",
       "      <td>₹ 7.5L</td>\n",
       "      <td>based on 33 salaries</td>\n",
       "    </tr>\n",
       "    <tr>\n",
       "      <th>5</th>\n",
       "      <td>UnitedHealth</td>\n",
       "      <td>2-4 yrs exp</td>\n",
       "      <td>₹ 20.1L</td>\n",
       "      <td>₹ 30.0L</td>\n",
       "      <td>₹ 12.0L</td>\n",
       "      <td>based on 52 salaries</td>\n",
       "    </tr>\n",
       "    <tr>\n",
       "      <th>6</th>\n",
       "      <td>Verizon</td>\n",
       "      <td>4 yrs exp</td>\n",
       "      <td>₹ 19.6L</td>\n",
       "      <td>₹ 26.0L</td>\n",
       "      <td>₹ 12.0L</td>\n",
       "      <td>based on 14 salaries</td>\n",
       "    </tr>\n",
       "    <tr>\n",
       "      <th>7</th>\n",
       "      <td>Ganit Business Solutions</td>\n",
       "      <td>4 yrs exp</td>\n",
       "      <td>₹ 19.4L</td>\n",
       "      <td>₹ 43.0L</td>\n",
       "      <td>₹ 8.0L</td>\n",
       "      <td>based on 13 salaries</td>\n",
       "    </tr>\n",
       "    <tr>\n",
       "      <th>8</th>\n",
       "      <td>Ericsson</td>\n",
       "      <td>3-4 yrs exp</td>\n",
       "      <td>₹ 19.1L</td>\n",
       "      <td>₹ 32.5L</td>\n",
       "      <td>₹ 10.1L</td>\n",
       "      <td>based on 43 salaries</td>\n",
       "    </tr>\n",
       "    <tr>\n",
       "      <th>9</th>\n",
       "      <td>Deloitte</td>\n",
       "      <td>2-4 yrs exp</td>\n",
       "      <td>₹ 18.7L</td>\n",
       "      <td>₹ 30.0L</td>\n",
       "      <td>₹ 12.0L</td>\n",
       "      <td>based on 57 salaries</td>\n",
       "    </tr>\n",
       "  </tbody>\n",
       "</table>\n",
       "</div>"
      ],
      "text/plain": [
       "                    Company Experience Required Average Salary Max Salary  \\\n",
       "0                  Ab Inbev         3-4 yrs exp        ₹ 26.6L    ₹ 40.0L   \n",
       "1                        ZS           2 yrs exp        ₹ 23.3L    ₹ 45.0L   \n",
       "2                     Optum         3-4 yrs exp        ₹ 21.2L    ₹ 30.0L   \n",
       "3         Fractal Analytics         2-4 yrs exp        ₹ 21.1L    ₹ 32.0L   \n",
       "4           Tiger Analytics         3-4 yrs exp        ₹ 21.1L    ₹ 31.0L   \n",
       "5              UnitedHealth         2-4 yrs exp        ₹ 20.1L    ₹ 30.0L   \n",
       "6                   Verizon           4 yrs exp        ₹ 19.6L    ₹ 26.0L   \n",
       "7  Ganit Business Solutions           4 yrs exp        ₹ 19.4L    ₹ 43.0L   \n",
       "8                  Ericsson         3-4 yrs exp        ₹ 19.1L    ₹ 32.5L   \n",
       "9                  Deloitte         2-4 yrs exp        ₹ 18.7L    ₹ 30.0L   \n",
       "\n",
       "  Min Salary         Salary Record  \n",
       "0    ₹ 10.4L  based on 28 salaries  \n",
       "1    ₹ 13.0L  based on 15 salaries  \n",
       "2    ₹ 12.0L  based on 25 salaries  \n",
       "3    ₹ 12.5L  based on 77 salaries  \n",
       "4     ₹ 7.5L  based on 33 salaries  \n",
       "5    ₹ 12.0L  based on 52 salaries  \n",
       "6    ₹ 12.0L  based on 14 salaries  \n",
       "7     ₹ 8.0L  based on 13 salaries  \n",
       "8    ₹ 10.1L  based on 43 salaries  \n",
       "9    ₹ 12.0L  based on 57 salaries  "
      ]
     },
     "execution_count": 35,
     "metadata": {},
     "output_type": "execute_result"
    }
   ],
   "source": [
    "import pandas as pd\n",
    "Data_Scientist = pd.DataFrame({'Company': company,\n",
    "                               'Experience Required': experience_req,\n",
    "                               'Average Salary': average_salary,\n",
    "                               'Max Salary': max_salary,\n",
    "                               'Min Salary': minimum_salary,\n",
    "                               'Salary Record': salary_record})\n",
    "Data_Scientist"
   ]
  },
  {
   "cell_type": "code",
   "execution_count": null,
   "id": "14ee068d",
   "metadata": {},
   "outputs": [],
   "source": []
  }
 ],
 "metadata": {
  "kernelspec": {
   "display_name": "Python 3",
   "language": "python",
   "name": "python3"
  },
  "language_info": {
   "codemirror_mode": {
    "name": "ipython",
    "version": 3
   },
   "file_extension": ".py",
   "mimetype": "text/x-python",
   "name": "python",
   "nbconvert_exporter": "python",
   "pygments_lexer": "ipython3",
   "version": "3.8.8"
  }
 },
 "nbformat": 4,
 "nbformat_minor": 5
}
